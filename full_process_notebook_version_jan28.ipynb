{
 "cells": [
  {
   "cell_type": "markdown",
   "metadata": {},
   "source": [
    "# From kernel string to structure drawing\n",
    "\n",
    "### Task & Goal\n",
    "\n",
    "\n",
    "### Steps\n",
    "EXTRACT INFORMATION FROM STRING  \n",
    "DETERMINE STRUCTURE  \n",
    "DRAW SHAPES  "
   ]
  },
  {
   "cell_type": "code",
   "execution_count": 1,
   "metadata": {},
   "outputs": [
    {
     "name": "stderr",
     "output_type": "stream",
     "text": [
      "C:\\Anaconda3\\lib\\site-packages\\drawSvg\\raster.py:18: RuntimeWarning: Failed to import CairoSVG. drawSvg will be unable to output PNG or other raster image formats. See https://github.com/cduck/drawSvg#prerequisites for more details.\n",
      "Original OSError: no library called \"cairo-2\" was found\n",
      "no library called \"cairo\" was found\n",
      "cannot load library 'C:\\GTK\\bin\\libcairo-2.dll': error 0xc1\n",
      "cannot load library 'libcairo.so.2': error 0x7e\n",
      "cannot load library 'libcairo.2.dylib': error 0x7e\n",
      "cannot load library 'libcairo-2.dll': error 0xc1\n",
      "  warnings.warn(msg, RuntimeWarning)\n"
     ]
    }
   ],
   "source": [
    "import re\n",
    "\n",
    "import numpy as np\n",
    "import networkx as nx\n",
    "from matplotlib import pyplot as plt\n",
    "\n",
    "import drawSvg as draw"
   ]
  },
  {
   "cell_type": "markdown",
   "metadata": {},
   "source": [
    "#### What is an invalid string?\n",
    "\n",
    "Invalid characters  \n",
    "Angle: [-179, 180]  \n",
    "etc."
   ]
  },
  {
   "cell_type": "code",
   "execution_count": 2,
   "metadata": {},
   "outputs": [],
   "source": [
    "#error handling step 1\n",
    "def check_string_valid(string):\n",
    "    if re.search(\"[$ß€]\", string): #all special characters?\n",
    "        raise Exception(\"bad string\")\n",
    "        \n",
    "#check_string_valid(\"@90 a ß90 b\")"
   ]
  },
  {
   "cell_type": "markdown",
   "metadata": {},
   "source": [
    "## EXTRACT INFORMATION FROM STRING\n",
    "\n",
    "First, count domains and create a table that has nrow corresponding to dom. count. As the string is very systematic, with a regional expression I can separate the domains with all their information given.  \n",
    "The good thing here is that the sequence of domains is clear from the string.  \n",
    "Most important is to know which domain is paired with which. As a human, when I find a bracket in the string, I look for its counterpart. This will have to be done in the second step and put the pairing info into a dictionary(?)."
   ]
  },
  {
   "cell_type": "code",
   "execution_count": 2,
   "metadata": {},
   "outputs": [],
   "source": [
    "#table(int) - cols: angle before dom, length, dom type?, if there is a strand break after  \n",
    "#dictionary - pairedness  \n",
    "#list of list - name of domains, their preliminary type \n",
    "\n",
    "def comprehend_string(string):\n",
    "    #separate domains/count\n",
    "    pattern = re.compile('@?-?[0-9]* ?[a-z|A-Z|0-9|\\*]+[ \\(]? ?\\+?|\\) ?\\+?')\n",
    "    dom_raw_list = pattern.findall(string)\n",
    "    dom_count = len(dom_raw_list)\n",
    "        \n",
    "    #create empty data structures     \n",
    "    struct_info_array = np.zeros((dom_count, 2), dtype = 'int') #3 cols rn, sb not needed here\n",
    "    #empty angles indicated by -999\n",
    "    for row in range(dom_count):\n",
    "        struct_info_array[row, 0] = -999\n",
    "    name_list1 = []\n",
    "    \n",
    "    #loop through the raw domains, extract  \n",
    "    for dom_i in range(len(dom_raw_list)):\n",
    "        dom = dom_raw_list[dom_i]\n",
    "        dom = dom.strip()\n",
    "        \n",
    "        #fill table\n",
    "        if re.search(\"\\s\", dom):\n",
    "            dom_parts = re.split(\"\\s\", dom)\n",
    "            \n",
    "            for segm in dom_parts:\n",
    "                if segm[0] is \"@\": #col0 angle\n",
    "                    segm = segm.lstrip(\"@\")\n",
    "                    struct_info_array[dom_i, 0] = int(segm) #col0 to write to\n",
    "                    #struct_info_array[dom_i, 1] = np.sign(int(segm)) #col1 to write to\n",
    "                    \n",
    "                #elif segm is \"+\": #col2 strand break\n",
    "                #    struct_info_array[dom_i, 2] = 1         #col2 to write to\n",
    "                elif segm is not \"+\": #else:\n",
    "                    name_list1.append(segm) #only keep the name part further\n",
    "        else:\n",
    "            name_list1.append(dom)\n",
    "        \n",
    "    #pairedness dictionary\n",
    "    paired_dict = {}\n",
    "    \n",
    "    for dom_i2 in range(len(dom_raw_list)):\n",
    "        if re.search(\"\\(\", dom_raw_list[dom_i2]):\n",
    "            bracket_count = 1\n",
    "            for next_dom in range(dom_i2+1, len(dom_raw_list)):\n",
    "                if re.search(\"\\(\", dom_raw_list[next_dom]):\n",
    "                    bracket_count += 1\n",
    "                elif re.search(\"\\)\", dom_raw_list[next_dom]):\n",
    "                    bracket_count -= 1\n",
    "                if bracket_count == 0:\n",
    "                    paired_dict[dom_i2] = next_dom\n",
    "                    break\n",
    "    \n",
    "    #name list of list / finding hairpin loops\n",
    "    #paireds in dict, hairpin loop known, other are unpaired -> substructure from these?\n",
    "    name_final_lol = []\n",
    "    \n",
    "    for dom_i3 in range(len(name_list1)):\n",
    "        \n",
    "        #paireds\n",
    "        if re.search(\"\\(\", name_list1[dom_i3]):\n",
    "            typ = \"paired\"\n",
    "            name = name_list1[dom_i3].strip(\"(+ \")\n",
    "        \n",
    "        #correcting closing bracket name\n",
    "        elif re.search(\"\\)\", name_list1[dom_i3]):\n",
    "            typ = \"paired\"\n",
    "            index_of_pair = list(paired_dict.keys())[list(paired_dict.values()).index(dom_i3)]\n",
    "            if re.search(\"\\*\", name_list1[index_of_pair]):\n",
    "                name = name_list1[index_of_pair].strip(\"\\(\").strip(\"\\*\")\n",
    "            else:\n",
    "                name = name_list1[index_of_pair].strip(\"\\(\") + \"*\"\n",
    "        \n",
    "        #all other are unpaireds\n",
    "        else:\n",
    "            typ = \"unpaired\"\n",
    "            name = name_list1[dom_i3].strip(\"+ \")\n",
    "        \n",
    "        name_final_lol.append([name, typ])\n",
    "        \n",
    "    return dom_raw_list, struct_info_array, paired_dict, name_final_lol"
   ]
  },
  {
   "cell_type": "code",
   "execution_count": 27,
   "metadata": {},
   "outputs": [
    {
     "data": {
      "text/plain": [
       "(array([[ -45,    0],\n",
       "        [-999,    0],\n",
       "        [-135,    0],\n",
       "        [-999,    0],\n",
       "        [-999,    0],\n",
       "        [-999,    0],\n",
       "        [-999,    0],\n",
       "        [-999,    0],\n",
       "        [-999,    0],\n",
       "        [-999,    0],\n",
       "        [-999,    0]]),\n",
       " {2: 10, 3: 6, 4: 5, 7: 9},\n",
       " [['d1S', 'unpaired'],\n",
       "  ['T2', 'unpaired'],\n",
       "  ['b', 'paired'],\n",
       "  ['a', 'paired'],\n",
       "  ['t2', 'paired'],\n",
       "  ['t2*', 'paired'],\n",
       "  ['a*', 'paired'],\n",
       "  ['c*', 'paired'],\n",
       "  ['t1*', 'unpaired'],\n",
       "  ['c', 'paired'],\n",
       "  ['b*', 'paired']])"
      ]
     },
     "execution_count": 27,
     "metadata": {},
     "output_type": "execute_result"
    }
   ],
   "source": [
    "string = \"@-45 d1S T2 @-135 b( a( t2( + ) ) c*( t1* + ) )\"\n",
    "comprehend_string(string)[1:4]"
   ]
  },
  {
   "cell_type": "code",
   "execution_count": 4,
   "metadata": {},
   "outputs": [
    {
     "data": {
      "text/plain": [
       "(array([[0, 0],\n",
       "        [0, 0],\n",
       "        [0, 0],\n",
       "        [0, 0],\n",
       "        [0, 0],\n",
       "        [0, 0],\n",
       "        [0, 0],\n",
       "        [0, 0],\n",
       "        [0, 0],\n",
       "        [0, 0],\n",
       "        [0, 0]]),\n",
       " {0: 10, 1: 9, 2: 4, 5: 8},\n",
       " [['t1', 'paired'],\n",
       "  ['c', 'paired'],\n",
       "  ['a', 'paired'],\n",
       "  ['t2*', 'unpaired'],\n",
       "  ['a*', 'paired'],\n",
       "  ['b*', 'paired'],\n",
       "  ['d2', 'unpaired'],\n",
       "  ['t3', 'unpaired'],\n",
       "  ['b', 'paired'],\n",
       "  ['c*', 'paired'],\n",
       "  ['t1*', 'paired']])"
      ]
     },
     "execution_count": 4,
     "metadata": {},
     "output_type": "execute_result"
    }
   ],
   "source": [
    "string2 = \"t1( c( a( + t2* ) b*( d2 t3 + ) ) )\"\n",
    "comprehend_string(string2)[1:4]"
   ]
  },
  {
   "cell_type": "code",
   "execution_count": 6,
   "metadata": {},
   "outputs": [
    {
     "data": {
      "text/plain": [
       "(array([[ -90,   -1,    0],\n",
       "        [-135,   -1,    0],\n",
       "        [ -90,   -1,    0],\n",
       "        [   0,    0,    0],\n",
       "        [   0,    0,    0],\n",
       "        [-135,   -1,    0],\n",
       "        [ -90,   -1,    0],\n",
       "        [   0,    0,    0],\n",
       "        [   0,    0,    0],\n",
       "        [-135,   -1,    0],\n",
       "        [-135,   -1,    0],\n",
       "        [   0,    0,    0],\n",
       "        [   0,    0,    0],\n",
       "        [-135,   -1,    0],\n",
       "        [   0,    0,    0],\n",
       "        [   0,    0,    0]]),\n",
       " {0: 14, 2: 4, 6: 8, 10: 12},\n",
       " [['aa', 'paired'],\n",
       "  ['i1', 'unpaired'],\n",
       "  ['da', 'paired'],\n",
       "  ['dl', 'unpaired'],\n",
       "  ['da*', 'paired'],\n",
       "  ['i2', 'unpaired'],\n",
       "  ['aca', 'paired'],\n",
       "  ['acl', 'unpaired'],\n",
       "  ['aca*', 'paired'],\n",
       "  ['vr', 'unpaired'],\n",
       "  ['pa', 'paired'],\n",
       "  ['pl', 'unpaired'],\n",
       "  ['pa*', 'paired'],\n",
       "  ['i3', 'unpaired'],\n",
       "  ['aa*', 'paired'],\n",
       "  ['c', 'unpaired']])"
      ]
     },
     "execution_count": 6,
     "metadata": {},
     "output_type": "execute_result"
    }
   ],
   "source": [
    "string3 = \"@-90 aa( @-135 i1 @-90 da( dl ) @-135 i2 @-90 aca( acl ) @-135 vr @-135 pa( pl ) @-135 i3 ) @0 c\"\n",
    "comprehend_string(string3)[1:4]"
   ]
  },
  {
   "cell_type": "markdown",
   "metadata": {},
   "source": [
    "### Distance list process and merge"
   ]
  },
  {
   "cell_type": "code",
   "execution_count": 3,
   "metadata": {},
   "outputs": [],
   "source": [
    "def process_length_input(struct_info_array, length_input_dict):\n",
    "    zeros_list = [0 for i in range(len(struct_info_array[:,1]))]\n",
    "    \n",
    "    #put into list format and append list to struct_info_array as new col\n",
    "    for length in length_input_dict:\n",
    "        zeros_list[length] = length_input_dict[length]\n",
    "        \n",
    "    zeros_list = np.array(zeros_list).reshape((len(zeros_list), 1))\n",
    "    struct_info_array = np.append(struct_info_array, zeros_list, axis=1)\n",
    "        \n",
    "    return struct_info_array"
   ]
  },
  {
   "cell_type": "code",
   "execution_count": 6,
   "metadata": {},
   "outputs": [
    {
     "data": {
      "text/plain": [
       "array([[ -45,   -1,   20],\n",
       "       [   0,    0,   40],\n",
       "       [-135,   -1,    0],\n",
       "       [   0,    0,    0],\n",
       "       [   0,    0,    0],\n",
       "       [   0,    0,    0],\n",
       "       [   0,    0,    0],\n",
       "       [   0,    0,    0],\n",
       "       [   0,    0,    0],\n",
       "       [   0,    0,    0],\n",
       "       [   0,    0,    0]])"
      ]
     },
     "execution_count": 6,
     "metadata": {},
     "output_type": "execute_result"
    }
   ],
   "source": [
    "string = \"@-45 d1S T2 @-135 b( a( t2( + ) ) c*( t1* + ) )\"\n",
    "length_input_dict = {0:20, 1:40}\n",
    "\n",
    "dom_raw_list, struct_info_array, paired_dict, name_final_lol = comprehend_string(string)\n",
    "process_length_input(struct_info_array, length_input_dict)"
   ]
  },
  {
   "cell_type": "markdown",
   "metadata": {},
   "source": [
    "## DETERMINE STRUCTURE \n",
    "\n",
    "### 1a. Create domain node graph\n",
    "Figure out if an unpaired region is from a special type - by making a network graph of the connected domains (either connected by sequence (red edge) or by pairedness (green edge)) we can find subgraphs that correspond to special domain structures that need to be handled differently.  "
   ]
  },
  {
   "cell_type": "code",
   "execution_count": 4,
   "metadata": {},
   "outputs": [],
   "source": [
    "def create_skeleton(dom_raw_list, paired_dict, name_final_lol):\n",
    "    #append edges to graph\n",
    "    G = nx.Graph()\n",
    "    \n",
    "    for dom_to_dom in range(len(name_final_lol)-1):\n",
    "        if re.search(\"\\+\", dom_raw_list[dom_to_dom]) is None:\n",
    "            G.add_edge(dom_to_dom, dom_to_dom+1, color='r') #domains that have a connection point are conn. with red edge\n",
    "    for pair in paired_dict:\n",
    "        G.add_edge(pair, paired_dict[pair], color='g') #paired domains are connected with green edge\n",
    "    \n",
    "    return G"
   ]
  },
  {
   "cell_type": "code",
   "execution_count": 5,
   "metadata": {},
   "outputs": [],
   "source": [
    "def draw_skeleton(G):\n",
    "    pos = nx.kamada_kawai_layout(G)\n",
    "    colors = [G[u][v]['color'] for u,v in G.edges()]\n",
    "    plt.figure(figsize=(16,9))\n",
    "\n",
    "    nx.draw_networkx(G, pos = pos, with_label = True, node_size=600,font_size=15, edge_color=colors, \n",
    "                     node_color='y', width=2)"
   ]
  },
  {
   "cell_type": "code",
   "execution_count": 9,
   "metadata": {},
   "outputs": [
    {
     "data": {
      "image/png": "[encoded data removed]",
      "text/plain": [
       "<Figure size 1152x648 with 1 Axes>"
      ]
     },
     "metadata": {},
     "output_type": "display_data"
    }
   ],
   "source": [
    "string = \"@-45 d1S T2 @-135 b( a( t2( + ) ) c*( t1* + ) )\"\n",
    "\n",
    "dom_raw_list, struct_info_array, paired_dict, name_final_lol = comprehend_string(string)\n",
    "skeleton_graph = create_skeleton(dom_raw_list, paired_dict, name_final_lol)\n",
    "draw_skeleton(skeleton_graph)"
   ]
  },
  {
   "cell_type": "code",
   "execution_count": 9,
   "metadata": {},
   "outputs": [
    {
     "data": {
      "image/png": "[encoded data removed]",
      "text/plain": [
       "<Figure size 1152x648 with 1 Axes>"
      ]
     },
     "metadata": {},
     "output_type": "display_data"
    }
   ],
   "source": [
    "string = \"a b( c ) d( e f( g h( + ) ) i j( k l( + ) m ) n o( p + q( + ) ) r )\"\n",
    "dom_raw_list, struct_info_array, paired_dict, name_final_lol = comprehend_string(string)\n",
    "skeleton_graph = create_skeleton(dom_raw_list, paired_dict, name_final_lol)\n",
    "draw_skeleton(skeleton_graph)"
   ]
  },
  {
   "cell_type": "code",
   "execution_count": 5,
   "metadata": {},
   "outputs": [
    {
     "data": {
      "image/png": "[encoded data removed]",
      "text/plain": [
       "<Figure size 1152x648 with 1 Axes>"
      ]
     },
     "metadata": {},
     "output_type": "display_data"
    }
   ],
   "source": [
    "string = \"@-90 aa( @-135 i1 @-90 da( dl ) @-135 i2 @-90 aca( acl ) @-135 vr @-135 pa( pl ) @-135 i3 ) @0 c\"\n",
    "\n",
    "dom_raw_list, struct_info_array, paired_dict, name_final_lol = comprehend_string(string)\n",
    "skeleton_graph = create_skeleton(dom_raw_list, paired_dict, name_final_lol)\n",
    "draw_skeleton(skeleton_graph)"
   ]
  },
  {
   "cell_type": "markdown",
   "metadata": {},
   "source": [
    "### 1b. Determining unpaired domain types\n",
    "Currently we check:   \n",
    "hairpin loop: easy, its neighbors are paired  \n",
    "unhinged: has only one neighbor domain - these will need extra care, especially ones resulting from strand break  \n",
    "bulgeloop: cycles with odd nodes and only 1! unpaired dom always has the strictly taken 'bulge'  \n",
    "multiloop: hard, as any number of unpaired doms can be connected with each other, only check r-g-r connection  \n",
    "crossroad: if a cycle is larger or equal to 6 nodes and has no unpaired domains, it is a crossroad\n",
    "\n",
    "nick - not tracked, but strand breaks will need much work in general"
   ]
  },
  {
   "cell_type": "code",
   "execution_count": 6,
   "metadata": {},
   "outputs": [],
   "source": [
    "def ds1_find_type_of_unpaired_v2(G, paired_dict, name_final_lol):\n",
    "    #index of ununpaireds - these don't need to be checked\n",
    "    paired_node_list = []\n",
    "    for node in paired_dict:\n",
    "        paired_node_list.append(node)\n",
    "        paired_node_list.append(paired_dict[node])\n",
    "    \n",
    "    #get unpaired too\n",
    "    unpaired_node_list = []\n",
    "    for node_index in range(len(name_final_lol)):\n",
    "        if node_index not in paired_node_list:\n",
    "            unpaired_node_list.append(node_index)\n",
    "    \n",
    "    #cycles of the skeleton graph\n",
    "    cycle_list_G = nx.cycle_basis(G) #neat!\n",
    "    multiloop_list = []\n",
    "    crossroad_list = []\n",
    "    \n",
    "    #look through cycles, where 3cycles are hairpin, 5c. are bulge and longer ones nest multiloops\n",
    "    for cycle in cycle_list_G:\n",
    "        if len(cycle) == 3: #always hairpin\n",
    "            for item in cycle:\n",
    "                if item in unpaired_node_list:\n",
    "                    name_final_lol[item][1] = \"hairpin loop\" #name altering\n",
    "                    unpaired_node_list.remove(item) #trim unpaired list from known items\n",
    "        elif len(cycle) > 3 & len(cycle) % 2 == 1: #current bulge def\n",
    "            unpaired_here = []\n",
    "            for item in cycle:\n",
    "                if item in unpaired_node_list:\n",
    "                    unpaired_here.append(item)\n",
    "            if len(unpaired_here) == 1:\n",
    "                name_final_lol[unpaired_here[0]][1] = \"bulgeloop\" #name altering\n",
    "                unpaired_node_list.remove(unpaired_here[0]) #trim unpaired list from known items\n",
    "         \n",
    "        #find multiloops, the corresponding domains are their own list item in multiloop_list\n",
    "        crossroad_tracker = True\n",
    "        \n",
    "        if len(cycle) >= 6:\n",
    "            curr_multiloop = []\n",
    "            for index in range(len(cycle)):\n",
    "                if cycle[index] in unpaired_node_list:\n",
    "                    crossroad_tracker = False\n",
    "                    \n",
    "                    if cycle[index-3] in unpaired_node_list :\n",
    "                        connections = [n for n in G.edges.data(nbunch=cycle[index-1])]\n",
    "                        for edge in connections:\n",
    "                            #only need to check paired edge between these2\n",
    "                            if edge[1] == cycle[index-2] and edge[2]['color'] is 'g': \n",
    "                                name_final_lol[cycle[index-3]][1] = \"multiloop\"\n",
    "                                name_final_lol[cycle[index]][1] = \"multiloop\" #altering names\n",
    "                                if cycle[index] not in curr_multiloop:\n",
    "                                    curr_multiloop.append(cycle[index])\n",
    "                                if cycle[index-3] not in curr_multiloop:\n",
    "                                    curr_multiloop.append(cycle[index-3])\n",
    "            if len(curr_multiloop) > 0:\n",
    "                multiloop_list.append(curr_multiloop)\n",
    "                for dom in curr_multiloop:\n",
    "                    unpaired_node_list.remove(dom) #trim unpaired list from known items\n",
    "            if crossroad_tracker is True: #if no unpaired region in cycle, it is a crossroad\n",
    "                crossroad_list.append(cycle)\n",
    "    \n",
    "    #unhinged sequence\n",
    "    for node_index in unpaired_node_list:\n",
    "        #first neighbors\n",
    "        direct_neigh = [n for n in G.neighbors(node_index)] #neighbors of current node\n",
    "        \n",
    "        #start from unhinged and go until all neighbors are unpaired\n",
    "        if len(direct_neigh) == 1:\n",
    "            name_final_lol[node_index][1] = \"unhinged\"\n",
    "            \n",
    "            next_neigh = direct_neigh\n",
    "            before = [node_index]\n",
    "            while len(next_neigh) == 1 and next_neigh[0] in unpaired_node_list:\n",
    "                name_final_lol[next_neigh[0]][1] = \"unhinged sequence\"\n",
    "                before.append(next_neigh[0])\n",
    "                next_neigh = [n for n in G.neighbors(next_neigh[0])]\n",
    "                next_neigh.remove(before[-2])\n",
    "            for step in before:\n",
    "                unpaired_node_list.remove(step) #bug with this line, cuts out 20 below, could implement it a bit diff\n",
    "    \n",
    "    #remaining is unknown but probably linear\n",
    "    for remain in unpaired_node_list:\n",
    "        name_final_lol[remain][1] = \"ambiguous\"\n",
    "    \n",
    "    return name_final_lol, multiloop_list, crossroad_list, cycle_list_G"
   ]
  },
  {
   "cell_type": "code",
   "execution_count": 11,
   "metadata": {},
   "outputs": [
    {
     "data": {
      "text/plain": [
       "([['a', 'unhinged'],\n",
       "  ['b', 'paired'],\n",
       "  ['c', 'multiloop'],\n",
       "  ['d', 'ambiguous'],\n",
       "  ['e', 'ambiguous'],\n",
       "  ['f', 'multiloop'],\n",
       "  ['b*', 'paired'],\n",
       "  ['g', 'unhinged sequence'],\n",
       "  ['h', 'unhinged sequence'],\n",
       "  ['i', 'unhinged sequence'],\n",
       "  ['j', 'unhinged']],\n",
       " [[2, 5]],\n",
       " [],\n",
       " [[2, 3, 4, 5, 6, 1]])"
      ]
     },
     "execution_count": 11,
     "metadata": {},
     "output_type": "execute_result"
    }
   ],
   "source": [
    "string = \"a b( c d e f ) g h i j\"\n",
    "dom_raw_list, struct_info_array, paired_dict, name_final_lol = comprehend_string(string)\n",
    "skeleton_graph = create_skeleton(dom_raw_list, paired_dict, name_final_lol)\n",
    "#draw_skeleton(skeleton_graph)\n",
    "ds1_find_type_of_unpaired_v2(skeleton_graph, paired_dict, name_final_lol)"
   ]
  },
  {
   "cell_type": "code",
   "execution_count": 8,
   "metadata": {},
   "outputs": [
    {
     "data": {
      "text/plain": [
       "([['a', 'unhinged'],\n",
       "  ['b', 'paired'],\n",
       "  ['c', 'hairpin loop'],\n",
       "  ['b*', 'paired'],\n",
       "  ['d', 'paired'],\n",
       "  ['e', 'multiloop'],\n",
       "  ['f', 'paired'],\n",
       "  ['g', 'bulgeloop'],\n",
       "  ['h', 'paired'],\n",
       "  ['h*', 'paired'],\n",
       "  ['f*', 'paired'],\n",
       "  ['i', 'multiloop'],\n",
       "  ['j', 'paired'],\n",
       "  ['k', 'multiloop'],\n",
       "  ['l', 'paired'],\n",
       "  ['l*', 'paired'],\n",
       "  ['m', 'multiloop'],\n",
       "  ['j*', 'paired'],\n",
       "  ['n', 'multiloop'],\n",
       "  ['o', 'paired'],\n",
       "  ['p', 'ambiguous'],\n",
       "  ['q', 'paired'],\n",
       "  ['q*', 'paired'],\n",
       "  ['o*', 'paired'],\n",
       "  ['r', 'multiloop'],\n",
       "  ['d*', 'paired']],\n",
       " [[16, 13], [5, 24, 11, 18]],\n",
       " [[2, 3, 1],\n",
       "  [16, 15, 14, 13, 12, 17],\n",
       "  [5, 6, 10, 11, 12, 17, 18, 19, 23, 24, 25, 4],\n",
       "  [9, 8, 7, 6, 10]])"
      ]
     },
     "execution_count": 8,
     "metadata": {},
     "output_type": "execute_result"
    }
   ],
   "source": [
    "string = \"a b( c ) d( e f( g h( + ) ) i j( k l( + ) m ) n o( p + q( + ) ) r )\"\n",
    "dom_raw_list, struct_info_array, paired_dict, name_final_lol = comprehend_string(string)\n",
    "skeleton_graph = create_skeleton(dom_raw_list, paired_dict, name_final_lol)\n",
    "ds1_find_type_of_unpaired_v2(skeleton_graph, paired_dict, name_final_lol)"
   ]
  },
  {
   "cell_type": "code",
   "execution_count": 12,
   "metadata": {},
   "outputs": [
    {
     "data": {
      "text/plain": [
       "([['a', 'paired'],\n",
       "  ['b', 'multiloop'],\n",
       "  ['c', 'paired'],\n",
       "  ['d', 'paired'],\n",
       "  ['e', 'hairpin loop'],\n",
       "  ['d*', 'paired'],\n",
       "  ['f', 'paired'],\n",
       "  ['f*', 'paired'],\n",
       "  ['c*', 'paired'],\n",
       "  ['g', 'multiloop'],\n",
       "  ['a*', 'paired'],\n",
       "  ['h', 'unhinged sequence'],\n",
       "  ['i', 'unhinged']],\n",
       " [[1, 9]],\n",
       " [[7, 6, 5, 3, 2, 8]],\n",
       " [[1, 2, 8, 9, 10, 0], [4, 5, 3], [7, 6, 5, 3, 2, 8]])"
      ]
     },
     "execution_count": 12,
     "metadata": {},
     "output_type": "execute_result"
    }
   ],
   "source": [
    "string = \"a( b c( d( e ) f( + )) g ) h i\"\n",
    "dom_raw_list, struct_info_array, paired_dict, name_final_lol = comprehend_string(string)\n",
    "skeleton_graph = create_skeleton(dom_raw_list, paired_dict, name_final_lol)\n",
    "ds1_find_type_of_unpaired_v2(skeleton_graph, paired_dict, name_final_lol)"
   ]
  },
  {
   "cell_type": "code",
   "execution_count": 150,
   "metadata": {},
   "outputs": [
    {
     "data": {
      "text/plain": [
       "([['d1S', 'unhinged'],\n",
       "  ['T2', 'unhinged sequence'],\n",
       "  ['b', 'paired'],\n",
       "  ['a', 'paired'],\n",
       "  ['t2', 'paired'],\n",
       "  ['t2*', 'paired'],\n",
       "  ['a*', 'paired'],\n",
       "  ['c*', 'paired'],\n",
       "  ['t1*', 'ambiguous'],\n",
       "  ['c', 'paired'],\n",
       "  ['b*', 'paired']],\n",
       " [],\n",
       " [[3, 6, 7, 9, 10, 2]],\n",
       " [[3, 6, 7, 9, 10, 2], [3, 4, 5, 6]])"
      ]
     },
     "execution_count": 150,
     "metadata": {},
     "output_type": "execute_result"
    }
   ],
   "source": [
    "string = \"@-45 d1S T2 @-135 b( a( t2( + ) ) c*( t1* + ) )\"\n",
    "dom_raw_list, struct_info_array, paired_dict, name_final_lol = comprehend_string(string)\n",
    "skeleton_graph = create_skeleton(dom_raw_list, paired_dict, name_final_lol)\n",
    "ds1_find_type_of_unpaired_v2(skeleton_graph, paired_dict, name_final_lol)"
   ]
  },
  {
   "cell_type": "code",
   "execution_count": 13,
   "metadata": {},
   "outputs": [
    {
     "data": {
      "image/png": "[encoded data removed]",
      "text/plain": [
       "<Figure size 1152x648 with 1 Axes>"
      ]
     },
     "metadata": {},
     "output_type": "display_data"
    }
   ],
   "source": [
    "draw_skeleton(skeleton_graph)"
   ]
  },
  {
   "cell_type": "markdown",
   "metadata": {},
   "source": [
    "### 2. Angle completion\n",
    "Given angles determine the side for the substructure they are in. Using this, the whole column can be filled around the given info, if not provided, default is negative (-1) side.  \n",
    "[Most problematic part]"
   ]
  },
  {
   "cell_type": "code",
   "execution_count": 7,
   "metadata": {},
   "outputs": [],
   "source": [
    "def ds2_fill_side_col(struct_info_array, cycle_list_G, name_final_lol):\n",
    "    dom_count = len(struct_info_array[:,1])\n",
    "    \n",
    "    #we take side info from sign of rel.angle, not robust solution\n",
    "    for row in range(dom_count):\n",
    "        if struct_info_array[row, 0] != -999:\n",
    "            if name_final_lol[row][1] is \"bulgeloop\": #special case for bulge :/\n",
    "                struct_info_array[row, 1] = np.sign(int(struct_info_array[row, 0])*-1)\n",
    "            else:\n",
    "                struct_info_array[row, 1] = np.sign(int(struct_info_array[row, 0]))\n",
    "    \n",
    "    #first loop through cycles\n",
    "    for cycle in cycle_list_G:\n",
    "        sides_there = []\n",
    "        for dom_cyc in cycle:\n",
    "            sides_there.append(struct_info_array[dom_cyc, 1])\n",
    "            \n",
    "        #if 1 in sides_there and -1 in sides_there:\n",
    "        #    raise ValueError(f'conflicting angles with domains of index: {cycle}')   #not how should be handled\n",
    "        if -1 in sides_there:\n",
    "            for dom_cyc in cycle:\n",
    "                struct_info_array[dom_cyc, 1] = -1\n",
    "        #pos substruc\n",
    "        elif 1 in sides_there:\n",
    "            for dom_cyc in cycle:\n",
    "                struct_info_array[dom_cyc, 1] = 1\n",
    "        #neg substruc or all 0\n",
    "        else:\n",
    "            for dom_cyc in cycle:\n",
    "                struct_info_array[dom_cyc, 1] = -1\n",
    "    \n",
    "    #then remaining ones are just based on previous neighbor to look more homogenous\n",
    "    for dom_index in range(dom_count):\n",
    "        if struct_info_array[dom_index, 1] == 0: #don't change if already given side\n",
    "                if dom_index == 0:\n",
    "                    struct_info_array[0, 1] = -1\n",
    "                else:\n",
    "                    struct_info_array[dom_index, 1] = struct_info_array[dom_index-1, 1]\n",
    "        \n",
    "    return struct_info_array"
   ]
  },
  {
   "cell_type": "code",
   "execution_count": 102,
   "metadata": {},
   "outputs": [
    {
     "data": {
      "text/plain": [
       "array([[ -90,   -1,    0],\n",
       "       [-999,   -1,    0],\n",
       "       [-999,   -1,    0],\n",
       "       [ -90,   -1,    0],\n",
       "       [  90,    1,    0],\n",
       "       [-999,    1,    0],\n",
       "       [-999,    1,    0],\n",
       "       [  90,    1,    0]])"
      ]
     },
     "execution_count": 102,
     "metadata": {},
     "output_type": "execute_result"
    }
   ],
   "source": [
    "string = \"@-90 a( b ) @-90 c @90 d( e ) @90 f\"\n",
    "length_input_dict = {}\n",
    "\n",
    "dom_raw_list, struct_info_array, paired_dict, name_final_lol = comprehend_string(string)\n",
    "struct_info_array = process_length_input(struct_info_array, length_input_dict)\n",
    "skeleton_graph = create_skeleton(dom_raw_list, paired_dict, name_final_lol)\n",
    "name_final_lol, multiloop_list, crossroad_list, cycle_list_G = ds1_find_type_of_unpaired_v2(skeleton_graph, paired_dict, name_final_lol)\n",
    "ds2_fill_side_col(struct_info_array, cycle_list_G, name_final_lol)"
   ]
  },
  {
   "cell_type": "code",
   "execution_count": 31,
   "metadata": {},
   "outputs": [
    {
     "data": {
      "text/plain": [
       "array([[-999,   -1,    0],\n",
       "       [-999,   -1,    0],\n",
       "       [-999,   -1,    0],\n",
       "       [  22,   -1,    0],\n",
       "       [-999,   -1,    0]])"
      ]
     },
     "execution_count": 31,
     "metadata": {},
     "output_type": "execute_result"
    }
   ],
   "source": [
    "string = \"a( b( + ) @22 c )\"\n",
    "length_input_dict = {}\n",
    "\n",
    "dom_raw_list, struct_info_array, paired_dict, name_final_lol = comprehend_string(string)\n",
    "struct_info_array = process_length_input(struct_info_array, length_input_dict)\n",
    "skeleton_graph = create_skeleton(dom_raw_list, paired_dict, name_final_lol)\n",
    "name_final_lol, multiloop_list, crossroad_list, cycle_list_G = ds1_find_type_of_unpaired_v2(skeleton_graph, paired_dict, name_final_lol)\n",
    "ds2_fill_side_col(struct_info_array, cycle_list_G, name_final_lol)"
   ]
  },
  {
   "cell_type": "code",
   "execution_count": 21,
   "metadata": {},
   "outputs": [
    {
     "data": {
      "text/plain": [
       "array([[-999,   -1],\n",
       "       [-999,   -1],\n",
       "       [ -45,   -1],\n",
       "       [-999,   -1],\n",
       "       [-999,   -1],\n",
       "       [  45,   -1],\n",
       "       [-999,   -1],\n",
       "       [-999,   -1],\n",
       "       [-999,   -1],\n",
       "       [-999,   -1],\n",
       "       [-999,   -1]])"
      ]
     },
     "execution_count": 21,
     "metadata": {},
     "output_type": "execute_result"
    }
   ],
   "source": [
    "string = \"a b( @-45 c d e @45 f ) g h i j\"\n",
    "dom_raw_list, struct_info_array, paired_dict, name_final_lol = comprehend_string(string)\n",
    "skeleton_graph = create_skeleton(dom_raw_list, paired_dict, name_final_lol)\n",
    "name_final_lol, multiloop_list, crossroad_list, cycle_list_G = ds1_find_type_of_unpaired_v2(skeleton_graph, paired_dict, name_final_lol)\n",
    "ds2_fill_side_col(struct_info_array, cycle_list_G, name_final_lol)"
   ]
  },
  {
   "cell_type": "markdown",
   "metadata": {},
   "source": [
    "### 3. Resolves cycles by forming geometric shapes\n",
    "\n",
    "Do this for cycles larger than 4 nodes! Because 2 paired domains will contribute as 1 edge to the shape, so a 5-node cycle from the graph (like a basic bulge) will form a triangle  \n",
    "Only 2 smaller cycle examples: hairpin and paired into paired, can be considered separately."
   ]
  },
  {
   "cell_type": "code",
   "execution_count": null,
   "metadata": {},
   "outputs": [],
   "source": [
    "if not fully defined (case when 2 length missing):\n",
    "    keep track of what is given\n",
    "    fill all angles with even degrees\n",
    "    fill up sides until 2 remain unknown\n",
    "    if possible next to each other\n",
    "    if not:\n",
    "        check if they are parallel to each other\n",
    "        if they are:\n",
    "            change two angles so they are not anymore\n",
    "\n",
    "\n",
    "    \n",
    "if not fully defined (case when 1 length missing):\n",
    "    need to have x variable for angles (harder)"
   ]
  },
  {
   "cell_type": "code",
   "execution_count": 17,
   "metadata": {},
   "outputs": [
    {
     "data": {
      "text/plain": [
       "7.653668647301795"
      ]
     },
     "execution_count": 17,
     "metadata": {},
     "output_type": "execute_result"
    }
   ],
   "source": [
    "a = 10\n",
    "b = 10\n",
    "C = 45\n",
    "\n",
    "def deg_to_rad(deg):\n",
    "    return deg*np.pi/180\n",
    "\n",
    "c = np.sqrt(a**2 + b**2 - 2*a*b*np.cos(deg_to_rad(C)))\n",
    "c"
   ]
  },
  {
   "cell_type": "code",
   "execution_count": 120,
   "metadata": {},
   "outputs": [],
   "source": [
    "def resolve_domains_in_cycles(struct_info_array, paired_dict, skeleton_graph):\n",
    "    \"\"\"\n",
    "    \n",
    "    This function handles a lot of stuff, separated in inner functions. We take cycles and assume their geometry \n",
    "    with trigonometric rules and fill in the information from the string.\n",
    "    \"\"\"\n",
    "    \n",
    "    cycle_list_G = nx.cycle_basis(skeleton_graph)\n",
    "    \n",
    "    paired_node_list = []\n",
    "    for node in paired_dict:\n",
    "        paired_node_list.append(node)\n",
    "        paired_node_list.append(paired_dict[node])\n",
    "        \n",
    "    def give_pair_of_domain(dom_index, paired_dict):\n",
    "        if dom_index in paired_dict:\n",
    "            return paired_dict[dom_index]\n",
    "        elif dom_index in list(paired_dict.values()):\n",
    "            index_of_pair = list(paired_dict.keys())[list(paired_dict.values()).index(dom_index)]\n",
    "            return index_of_pair\n",
    "        else:\n",
    "            raise ValueError('not actually paired')\n",
    "    \n",
    "    def initiate_polygon_table(cycle, struct_info_array, paired_dict, paired_node_list):\n",
    "        \"\"\"\n",
    "        \n",
    "        Create table for said polygon, the angles for the polygon depend only on relative angles from the string\n",
    "        \"\"\"\n",
    "        \n",
    "        polygon_array = np.zeros((int(polygon_sides), 3), dtype='int')\n",
    "        paired_dist = 10 #could be changed\n",
    "        \n",
    "        curr_row = 0\n",
    "        for cyc_index in range(len(cycle)):\n",
    "            input_ang = struct_info_array[cycle[cyc_index], 0]  #rel. angle\n",
    "            side = struct_info_array[cycle[cyc_index], 1]\n",
    "            \n",
    "            if cycle[cyc_index] not in paired_node_list: #at the start of an unpaired there is always a PA\n",
    "                polygon_array[curr_row, 0] = cycle[cyc_index]   #remember dom name to write back to\n",
    "                polygon_array[curr_row, 2] = struct_info_array[cycle[cyc_index], 2]  #dom length\n",
    "                    \n",
    "                curr_row += 1\n",
    "                \n",
    "                if cycle[cyc_index-1] not in paired_node_list: #unpaired-unpaired\n",
    "                    if input_ang == -999:\n",
    "                        poly_ang = 0\n",
    "                    else:\n",
    "                        poly_ang = 180 + input_ang*side\n",
    "                    polygon_array[curr_row, 1] = poly_ang\n",
    "                \n",
    "                else:                                          #unpaired - paired(prev)\n",
    "                    if input_ang == -999:\n",
    "                        poly_ang = 0\n",
    "                    else:\n",
    "                        poly_ang = 90 + input_ang*side\n",
    "                    polygon_array[curr_row, 1] = poly_ang\n",
    "            \n",
    "            else:\n",
    "                pair_of_curr = give_pair_of_domain(cycle[cyc_index], paired_dict)\n",
    "                \n",
    "                if cycle[cyc_index - 1] not in paired_node_list: #paired-unpaired\n",
    "                    if input_ang == -999:\n",
    "                        poly_ang = 0\n",
    "                    else:\n",
    "                        poly_ang = 90 + input_ang*side\n",
    "                    \n",
    "                    polygon_array[curr_row, 0] = cycle[cyc_index]   #remember dom name to write back to\n",
    "                    polygon_array[curr_row, 1] = poly_ang\n",
    "                    polygon_array[curr_row, 2] = paired_dist  #dom length\n",
    "                \n",
    "                    curr_row += 1 #update row in polygon_array\n",
    "                    \n",
    "                elif cycle[cyc_index - 1] in paired_node_list and cycle[cyc_index - 1] != pair_of_curr: #paired-paired\n",
    "                    if input_ang == -999:\n",
    "                        poly_ang = 0\n",
    "                    else:\n",
    "                        poly_ang = np.abs(input_ang)\n",
    "                    \n",
    "                    polygon_array[curr_row, 0] = cycle[cyc_index]   #remember dom name to write back to\n",
    "                    polygon_array[curr_row, 1] = poly_ang\n",
    "                    polygon_array[curr_row, 2] = paired_dist  #dom length\n",
    "                \n",
    "                    curr_row += 1 #update row in polygon_array\n",
    "        \n",
    "        return polygon_array\n",
    "    \n",
    "    def polygon_fully_defined(polygon_array): \n",
    "        \"\"\"Return False if not enough data available for the polygon\"\"\"\n",
    "        \n",
    "        n_poly = len(polygon_array[:,0])\n",
    "        n_given_ang = 0\n",
    "        for n in list(polygon_array[:,1]):\n",
    "            if n != 0:\n",
    "                n_given_ang += 1\n",
    "        \n",
    "        n_given_len = 0\n",
    "        for n in list(polygon_array[:,2]):\n",
    "            if n != 0:\n",
    "                n_given_len += 1\n",
    "        \n",
    "        if n_poly == 3:\n",
    "            if n_given_ang != 3:\n",
    "                if n_given_len + n_given_ang >= 3:\n",
    "                    return True\n",
    "                else:\n",
    "                    return False\n",
    "            else:\n",
    "                if n_given_len != 0:\n",
    "                    return True\n",
    "                else:\n",
    "                    return False\n",
    "                \n",
    "        #all other polygons - currently bad\n",
    "        else:  \n",
    "            if n_given_len >= n_poly-2 and n_given_ang == n_poly:\n",
    "                return True #if 2 unknown and these are parallel, not fully defined\n",
    "            elif n_given_len == n_poly and n_given_ang >= n_poly-2:\n",
    "                return True\n",
    "            else:\n",
    "                return False\n",
    "    \n",
    "    def assume_fill_polyarr(polygon_array):\n",
    "        \"\"\"\n",
    "        \n",
    "        Fill up missing variables in an educated manner until the 'polygon' is fully defined. \n",
    "        Then hand it over to calculate missing.\n",
    "        Case not implemented: if more domain length are given for a cycle than \"domains in cycle\" - 2.\n",
    "        \"\"\"\n",
    "               \n",
    "        n_poly = len(polygon_array[:,0])\n",
    "        n_given_ang = 0\n",
    "        given_ang_list = []\n",
    "        angle_list = list(polygon_array[:,1])\n",
    "        for n in angle_list:\n",
    "            if n != 0:\n",
    "                n_given_ang += 1\n",
    "                given_ang_list.append()\n",
    "        \n",
    "        n_given_len = 0\n",
    "        for n in list(polygon_array[:,2]):\n",
    "            if n != 0:\n",
    "                n_given_len += 1\n",
    "        \n",
    "        #case1\n",
    "        if n_given_len <= n_poly-2:\n",
    "            pass\n",
    "            #fill all angles\n",
    "            \n",
    "            #if no lengths present, we add one\n",
    "            #check definedness, add lengths one by one, repeat \n",
    "            \n",
    "        #case2 - not implemented yet\n",
    "        elif n_given_len == n_poly:\n",
    "            pass\n",
    "        \n",
    "        #case3 - not implemented yet\n",
    "        elif n_given_len == n_poly-1:\n",
    "            pass\n",
    "    \n",
    "    def calculate_remaining(polygon_array):\n",
    "        pass\n",
    "    \n",
    "    def feed_polyarr_to_structarray(struct_info_array, polygon_array, cycle, paired_node_list):\n",
    "        \"\"\"Write back calculated relative angles and domain lengths(if appropriate) to SIA\"\"\"\n",
    "        \n",
    "        for poly_index in range(len(polygon_array[:,0])):\n",
    "            curr_dom_index = polygon_array[poly_index, 0]\n",
    "            poly_ang = polygon_array[poly_index, 1]\n",
    "            poly_len = polygon_array[poly_index, 2]\n",
    "            \n",
    "            side = struct_info_array[curr_dom_index, 1]\n",
    "            cyc_index = cycle.index(curr_dom_index)\n",
    "            \n",
    "            if curr_dom_index not in paired_node_list: #at the start of an unpaired there is always a polygon angle\n",
    "                struct_info_array[curr_dom_index, 2] = poly_len #if unpaired, the length we write over\n",
    "                \n",
    "                if cycle[cyc_index-1] not in paired_node_list: #unpaired-unpaired\n",
    "                    rel_angle = (poly_ang - 180) / side\n",
    "                    struct_info_array[curr_dom_index, 0] = rel_angle\n",
    "                \n",
    "                else:                                          #unpaired - paired(prev)\n",
    "                    rel_angle = (poly_ang - 90) / side\n",
    "                    struct_info_array[curr_dom_index, 0] = rel_angle\n",
    "            \n",
    "            else:\n",
    "                if cycle[cyc_index - 1] not in paired_node_list: #paired-unpaired\n",
    "                    rel_angle = (poly_ang - 90) / side\n",
    "                    struct_info_array[curr_dom_index, 0] = rel_angle\n",
    "                    \n",
    "                else: #it is always the right paired-paired, as we only put those in the table\n",
    "                    rel_angle = poly_ang*side\n",
    "                    struct_info_array[curr_dom_index, 0] = rel_angle\n",
    "        \n",
    "        return struct_info_array\n",
    "    \n",
    "    #MAIN LOOP\n",
    "    for cycle in cycle_list_G:\n",
    "        #if all length and angles already there, we can skip the polygon part\n",
    "        pass\n",
    "        \n",
    "        polygon_sides = 0\n",
    "        for item in cycle:\n",
    "            if item in paired_node_list:\n",
    "                polygon_sides += 0.5\n",
    "            else:\n",
    "                polygon_sides += 1\n",
    "                \n",
    "        if polygon_sides == 2: #special cases\n",
    "            if len(cycle) == 3: #hairpin, nothing to do here\n",
    "                pass\n",
    "            elif len(cycle) == 4: #paired into paired, can fill in two 0 angles\n",
    "                cycle.sort()      #the domains will be after this always the secomd and fourth in cycle\n",
    "                struct_info_array[cycle[1], 0] = 0\n",
    "                struct_info_array[cycle[3], 0] = 0\n",
    "                \n",
    "            return struct_info_array\n",
    "                \n",
    "        if polygon_sides >= 3: #has a polygon\n",
    "            polygon_array = initiate_polygon_table(cycle, struct_info_array, paired_dict, paired_node_list)\n",
    "            print(polygon_array)\n",
    "            print(polygon_fully_defined(polygon_array))\n",
    "            \n",
    "            if polygon_fully_defined(polygon_array) is True:\n",
    "                pass\n",
    "                #polygon_array = calculate_remaining(polygon_array)\n",
    "            else:\n",
    "                pass\n",
    "                #polygon_array = assume_fill_polyarr(polygon_array)\n",
    "                #polygon_array = calculate_remaining(polygon_array)     \n",
    "            \n",
    "            #add calculated info back to SIA\n",
    "            struct_info_array2 = feed_polyarr_to_structarray(struct_info_array, polygon_array, cycle, paired_node_list)\n",
    "            \n",
    "            return struct_info_array2"
   ]
  },
  {
   "cell_type": "code",
   "execution_count": 36,
   "metadata": {
    "scrolled": false
   },
   "outputs": [
    {
     "name": "stdout",
     "output_type": "stream",
     "text": [
      "[[-999   -1   30]\n",
      " [-999   -1   30]\n",
      " [ -45   -1    0]\n",
      " [ -45   -1    0]\n",
      " [-999   -1    0]\n",
      " [-999   -1    0]\n",
      " [-999   -1    0]]\n",
      "[[ 3 45 10]\n",
      " [ 5  0  0]\n",
      " [ 6  0 10]]\n",
      "True\n"
     ]
    },
    {
     "data": {
      "text/plain": [
       "array([[-999,   -1,   30],\n",
       "       [-999,   -1,   30],\n",
       "       [ -45,   -1,    0],\n",
       "       [ -45,   -1,    0],\n",
       "       [-999,   -1,    0],\n",
       "       [  90,   -1,    0],\n",
       "       [  90,   -1,    0]])"
      ]
     },
     "execution_count": 36,
     "metadata": {},
     "output_type": "execute_result"
    }
   ],
   "source": [
    "string = \"d1 d2 @-45 a( @-45 b( + ) c )\"\n",
    "length_input_dict = {0:30, 1:30}\n",
    "dom_raw_list, struct_info_array, paired_dict, name_final_lol = comprehend_string(string)\n",
    "struct_info_array = process_length_input(struct_info_array, length_input_dict)\n",
    "skeleton_graph = create_skeleton(dom_raw_list, paired_dict, name_final_lol)\n",
    "name_final_lol, multiloop_list, crossroad_list, cycle_list_G = ds1_find_type_of_unpaired_v2(skeleton_graph, paired_dict, name_final_lol)\n",
    "struct_info_array = ds2_fill_side_col(struct_info_array, cycle_list_G, name_final_lol)\n",
    "print(struct_info_array)\n",
    "resolve_domains_in_cycles(struct_info_array, paired_dict, skeleton_graph)"
   ]
  },
  {
   "cell_type": "code",
   "execution_count": 37,
   "metadata": {},
   "outputs": [
    {
     "name": "stdout",
     "output_type": "stream",
     "text": [
      "[[-999   -1    0]\n",
      " [   0   -1    0]\n",
      " [   0   -1    0]\n",
      " [-999   -1    0]\n",
      " [-999   -1    0]\n",
      " [-999   -1    0]]\n",
      "[[ 1  0  0]\n",
      " [ 2 90 10]\n",
      " [ 4  0  0]\n",
      " [ 5  0 10]]\n",
      "False\n"
     ]
    }
   ],
   "source": [
    "string = \"a( @0 b @0 c( + ) d )\"\n",
    "length_input_dict = {}\n",
    "dom_raw_list, struct_info_array, paired_dict, name_final_lol = comprehend_string(string)\n",
    "struct_info_array = process_length_input(struct_info_array, length_input_dict)\n",
    "skeleton_graph = create_skeleton(dom_raw_list, paired_dict, name_final_lol)\n",
    "name_final_lol, multiloop_list, crossroad_list, cycle_list_G = ds1_find_type_of_unpaired_v2(skeleton_graph, paired_dict, name_final_lol)\n",
    "struct_info_array = ds2_fill_side_col(struct_info_array, cycle_list_G, name_final_lol)\n",
    "print(struct_info_array)\n",
    "resolve_domains_in_cycles(struct_info_array, paired_dict, skeleton_graph)"
   ]
  },
  {
   "cell_type": "markdown",
   "metadata": {},
   "source": [
    "### 4. Determine traversing order based on graph \n",
    "\n",
    "This will ensure that every domain is approached from a point that is already known\n",
    "\n",
    "Start at the beginning, walk along the network with the following preferences:  \n",
    "-If it is a paired domain, we draw its pair too (since its obvious and it gives another constraint for the structure)  \n",
    "-Check if domain is in cycle(substructure), if yes, we prioritize the cycle elements and get from in-point to out-point  \n",
    "-While walking along the cycle, put the neighbors not in the current cycle to the back"
   ]
  },
  {
   "cell_type": "code",
   "execution_count": 9,
   "metadata": {},
   "outputs": [],
   "source": [
    "#determine order of traversal (order of domains to build up)\n",
    "def ds3a_determine_contstruct_order(skeleton_graph, paired_dict):\n",
    "    cycle_list_G = nx.cycle_basis(skeleton_graph)\n",
    "    \n",
    "    paired_node_list = []\n",
    "    for node in paired_dict:\n",
    "        paired_node_list.append(node)\n",
    "        paired_node_list.append(paired_dict[node])\n",
    "    \n",
    "    def find_cycle_where_index_belongs(dom_index, cycle_list_G): #now finds largest cycle\n",
    "        found = []\n",
    "        for cycle in cycle_list_G:\n",
    "            if dom_index in cycle and len(cycle) > len(found):\n",
    "                found = cycle\n",
    "        return found\n",
    "    \n",
    "    def resort_list_to_start_by_spec_value(dom_index, list_with_value):\n",
    "        index = list_with_value.index(dom_index)\n",
    "        sorted_list = []\n",
    "        for i in range(len(list_with_value)):\n",
    "            sorted_list.append(list_with_value[index-len(list_with_value)+i])\n",
    "        return sorted_list\n",
    "    \n",
    "    def give_pair_of_domain(dom_index, paired_dict):\n",
    "        if dom_index in paired_dict:\n",
    "            return paired_dict[dom_index]\n",
    "        elif dom_index in list(paired_dict.values()):\n",
    "            index_of_pair = list(paired_dict.keys())[list(paired_dict.values()).index(dom_index)]\n",
    "            return index_of_pair\n",
    "        else:\n",
    "            raise ValueError('not actually paired')\n",
    "    \n",
    "    #\n",
    "    traverse_order = [0]\n",
    "    \n",
    "    for node in traverse_order:\n",
    "        current_in_travord = traverse_order.index(node)\n",
    "        counter = 0 #helps with insert index\n",
    "        \n",
    "        #pair primary\n",
    "        if node in paired_node_list:\n",
    "            pair_first = give_pair_of_domain(node, paired_dict) #pair first!\n",
    "            if pair_first not in traverse_order:\n",
    "                traverse_order.insert(current_in_travord+1, pair_first)\n",
    "                counter += 1\n",
    "        \n",
    "        #cycle secondary\n",
    "        its_cycle = find_cycle_where_index_belongs(node, cycle_list_G)\n",
    "        if len(its_cycle) != 0: #if in cycle\n",
    "            resorted_cycle = resort_list_to_start_by_spec_value(node, its_cycle)\n",
    "            \n",
    "            for item in resorted_cycle:\n",
    "                if item not in traverse_order:\n",
    "                    traverse_order.insert(current_in_travord+counter+1, item)\n",
    "                    counter += 1\n",
    "                        \n",
    "        #other neighbor tertiary\n",
    "        neighbors = skeleton_graph.neighbors(node)\n",
    "        for neighbor in neighbors:  #other neighbor third!\n",
    "            if neighbor not in traverse_order:\n",
    "                traverse_order.append(neighbor)\n",
    "\n",
    "    return traverse_order"
   ]
  },
  {
   "cell_type": "code",
   "execution_count": 10,
   "metadata": {},
   "outputs": [
    {
     "data": {
      "text/plain": [
       "[0, 4, 1, 2, 3]"
      ]
     },
     "execution_count": 10,
     "metadata": {},
     "output_type": "execute_result"
    }
   ],
   "source": [
    "string = \"@-45 a( @-45 b( + ) c )\"\n",
    "dom_raw_list, struct_info_array, paired_dict, name_final_lol = comprehend_string(string)\n",
    "skeleton_graph = create_skeleton(dom_raw_list, paired_dict, name_final_lol)\n",
    "ds3a_determine_contstruct_order(skeleton_graph, paired_dict)"
   ]
  },
  {
   "cell_type": "code",
   "execution_count": 11,
   "metadata": {},
   "outputs": [
    {
     "data": {
      "text/plain": [
       "[0, 10, 1, 2, 8, 9, 11, 3, 5, 6, 7, 12, 4]"
      ]
     },
     "execution_count": 11,
     "metadata": {},
     "output_type": "execute_result"
    }
   ],
   "source": [
    "string = \"a( b c( d( e ) f( + )) g ) h i\"\n",
    "dom_raw_list, struct_info_array, paired_dict, name_final_lol = comprehend_string(string)\n",
    "skeleton_graph = create_skeleton(dom_raw_list, paired_dict, name_final_lol)\n",
    "#name_final_lol, multiloop_list, crossroad_list, cycle_list_G = ds1_find_type_of_unpaired_v2(skeleton_graph, paired_dict, name_final_lol)\n",
    "#struct_info_array = ds2_fill_side_col(struct_info_array, cycle_list_G)\n",
    "ds3a_determine_contstruct_order(skeleton_graph, paired_dict)"
   ]
  },
  {
   "cell_type": "code",
   "execution_count": 21,
   "metadata": {},
   "outputs": [
    {
     "name": "stdout",
     "output_type": "stream",
     "text": [
      "[0, 1, 3, 2, 4, 25, 5, 6, 10, 11, 12, 17, 18, 19, 23, 24, 7, 8, 9, 13, 15, 14, 16, 20, 22, 21]\n"
     ]
    }
   ],
   "source": [
    "string = \"a b( c ) d( e f( g h( + ) ) i j( k l( + ) m ) n o( p + q( + ) ) r )\"\n",
    "dom_raw_list, struct_info_array, paired_dict, name_final_lol = comprehend_string(string)\n",
    "skeleton_graph = create_skeleton(dom_raw_list, paired_dict, name_final_lol)\n",
    "print(ds3a_determine_contstruct_order(skeleton_graph, paired_dict))"
   ]
  },
  {
   "cell_type": "markdown",
   "metadata": {},
   "source": [
    "## Building the structure step-by-step\n",
    "### 1.\n",
    "\n",
    "Go according to traverse list:  \n",
    "1 . Write over known coinciding point coords - for unpaired and first of a paired pair (not for domain 0)  \n",
    "2 . Each domain is drawn with known or preferred angles/length, the preferred angles  \n",
    "3 . For each domain, check if assumed parameters seem correct in the context of structure thus far, if not, try other preferred angles or any other - go back to prev domain if fails?  \n",
    "\n",
    "#### Defaults currently\n",
    "Linear domain: 30  \n",
    "Between pairs: 10  \n",
    "Default angle lists, for different domain pairs:  \n",
    "..."
   ]
  },
  {
   "cell_type": "code",
   "execution_count": 107,
   "metadata": {},
   "outputs": [],
   "source": [
    "def ds3b_stepwise_buildup(struct_info_array2, paired_dict, name_final_lol, crossroad_list, traverse_order, skeleton_graph):\n",
    "    \"\"\"\n",
    "    \n",
    "    Taking the more-or-less filled SIA, we go along the traversing/drawing order, assume lengths and angles for\n",
    "    unpaired, out-of-loop domains and loop starters.\n",
    "    \"\"\"\n",
    "    \n",
    "    paired_dist = 10\n",
    "    \n",
    "    dom_count = len(traverse_order)\n",
    "    coordinate_array = np.zeros((dom_count, 4))\n",
    "    cycle_list_G = nx.cycle_basis(skeleton_graph)\n",
    "    \n",
    "    #add a new col for absolute angle values\n",
    "    struct_info_array2 = np.append(struct_info_array2, [[0] for i in range(len(struct_info_array2[:,0]))], axis=1)\n",
    "    \n",
    "    #average over given lengths to get a default unpaired length\n",
    "    n_given_len = 0\n",
    "    sum_length = 0\n",
    "    for length in struct_info_array2[:,2]:\n",
    "        if length != 0:\n",
    "            sum_length += length\n",
    "    if n_given_len == 0:\n",
    "        default_length = 30\n",
    "    else:\n",
    "        default_length = sum_length/n_given_len\n",
    "    \n",
    "    #paired list as before\n",
    "    paired_node_list = []\n",
    "    for node in paired_dict:\n",
    "        paired_node_list.append(node)\n",
    "        paired_node_list.append(paired_dict[node])\n",
    "        \n",
    "    def get_red_neigh(domain_index, skeleton_graph):\n",
    "        connections = [n for n in skeleton_graph.edges.data(nbunch=domain_index)]\n",
    "        red_neigh = []\n",
    "        for edge in connections:\n",
    "            if edge[2]['color'] is 'r':\n",
    "                red_neigh.append(edge[1])\n",
    "        return red_neigh\n",
    "    \n",
    "    def give_pair_of_domain(dom_index, paired_dict):\n",
    "        if dom_index in paired_dict:\n",
    "            return paired_dict[dom_index]\n",
    "        elif dom_index in list(paired_dict.values()):\n",
    "            index_of_pair = list(paired_dict.keys())[list(paired_dict.values()).index(dom_index)]\n",
    "            return index_of_pair\n",
    "        else:\n",
    "            raise ValueError('not actually paired')\n",
    "    \n",
    "    def get_preferred_angle(domain_index, paired_node_list, skeleton_graph): #would be better with name_final\n",
    "        neighbors = get_red_neigh(domain_index, skeleton_graph)\n",
    "        if min(neighbors) == domain_index-1: #connected to prev dom\n",
    "            if min(neighbors) in paired_node_list and domain_index in paired_node_list:\n",
    "                pref_angle = 60\n",
    "            \n",
    "            elif min(neighbors) in paired_node_list and domain_index not in paired_node_list:\n",
    "                pref_angle = 90\n",
    "            \n",
    "            elif min(neighbors) not in paired_node_list and domain_index in paired_node_list:\n",
    "                pref_angle = 90\n",
    "            \n",
    "            elif min(neighbors) not in paired_node_list and domain_index not in paired_node_list:\n",
    "                pref_angle = 0\n",
    "            \n",
    "            else:\n",
    "                raise Exception('Impossible')\n",
    "            \n",
    "        else:  #not connected to prev dom, so only to next dom\n",
    "            if min(neighbors) in paired_node_list and domain_index in paired_node_list:\n",
    "                pref_angle = 60\n",
    "            \n",
    "            elif min(neighbors) in paired_node_list and domain_index not in paired_node_list:\n",
    "                pref_angle = 90\n",
    "            \n",
    "            elif min(neighbors) not in paired_node_list and domain_index in paired_node_list:\n",
    "                pref_angle = 90\n",
    "            \n",
    "            elif min(neighbors) not in paired_node_list and domain_index not in paired_node_list:\n",
    "                pref_angle = 0\n",
    "            \n",
    "            else:\n",
    "                raise Exception('Impossible')\n",
    "        \n",
    "        return pref_angle\n",
    "    \n",
    "    def normal_length1(vector, side):\n",
    "        unit_vector = vector/np.linalg.norm(vector)\n",
    "        unit_normal = np.array([-1*side*unit_vector[1], side*unit_vector[0]])\n",
    "        \n",
    "        return unit_normal\n",
    "    \n",
    "    def deg_to_rad(deg):\n",
    "        return deg*np.pi/180\n",
    "    \n",
    "    def calc_coords_of_paired2(domain_index, struct_info_array2, coordinate_array):\n",
    "        side = struct_info_array2[domain_index, 1]\n",
    "        x0p, y0p, x1p, y1p = coordinate_array[give_pair_of_domain(domain_index, paired_dict)]\n",
    "        pair1vec = np.array([x1p - x0p, y1p - y0p])\n",
    "        \n",
    "        #direction of normal_vec has to be opposite of the default normal_vec, as that points outside and this inside\n",
    "        x0, y0 = np.array([x1p, y1p]) + normal_length1(pair1vec, side) * paired_dist *-1  \n",
    "        x1, y1 = np.array([x0, y0]) + pair1vec * -1\n",
    "        \n",
    "        return x0, y0, x1, y1\n",
    "    \n",
    "    def calculate_other_two_coords(x, y, abs_angle, length):\n",
    "        abs_angle_rad = deg_to_rad(abs_angle)\n",
    "        \n",
    "        next_x = x + np.cos(abs_angle_rad) * length\n",
    "        next_y = y + np.sin(abs_angle_rad) * length\n",
    "        \n",
    "        return next_x, next_y\n",
    "    \n",
    "    def take_opposite_angle(angle):\n",
    "        if angle > 0:\n",
    "            angle -= 180\n",
    "        else:\n",
    "            angle += 180\n",
    "        return angle\n",
    "    \n",
    "    def check_domain_intersection_to_prev_data():\n",
    "        pass\n",
    "    \n",
    "    #MAIN LOOP   \n",
    "    for domain_index in traverse_order:\n",
    "        written_rows = traverse_order[0 : traverse_order.index(domain_index)] #rows before current in TO\n",
    "        \n",
    "        if domain_index == 0: #0th dom\n",
    "            if struct_info_array2[0, 0] == -999:\n",
    "                abs_angle = 0\n",
    "            else:\n",
    "                abs_angle = struct_info_array2[0, 0]\n",
    "                struct_info_array2[0, 3] = abs_angle  #the absolute angle summation starts here\n",
    "            \n",
    "            if struct_info_array2[0, 2] == 0:\n",
    "                length_here = default_length\n",
    "            else:\n",
    "                length_here = struct_info_array2[0, 2]\n",
    "            \n",
    "            x1,y1 = calculate_other_two_coords(0, 0, abs_angle, length_here)\n",
    "            coordinate_array[0, 2] = x1\n",
    "            coordinate_array[0, 3] = y1\n",
    "            \n",
    "        else: #all other doms\n",
    "            if domain_index in paired_node_list and give_pair_of_domain(domain_index, paired_dict) in written_rows:\n",
    "                x0, y0, x1, y1 = calc_coords_of_paired2(domain_index, struct_info_array2, coordinate_array)\n",
    "                coordinate_array[domain_index, 0] = x0\n",
    "                coordinate_array[domain_index, 1] = y0\n",
    "                coordinate_array[domain_index, 2] = x1\n",
    "                coordinate_array[domain_index, 3] = y1\n",
    "                \n",
    "                abs_of_pair = struct_info_array2[give_pair_of_domain(domain_index, paired_dict), 3]\n",
    "                abs_here = take_opposite_angle(abs_of_pair)\n",
    "                struct_info_array2[domain_index, 3] = abs_here\n",
    "            \n",
    "            else:\n",
    "                side = struct_info_array2[domain_index, 1]\n",
    "                neighbors = get_red_neigh(domain_index, skeleton_graph)\n",
    "                \n",
    "                #rel_angle cases\n",
    "                if struct_info_array2[domain_index, 0] == -999:\n",
    "                    rel_angle = side*get_preferred_angle(domain_index, paired_node_list, skeleton_graph)\n",
    "                else:\n",
    "                    rel_angle = struct_info_array2[domain_index, 0]\n",
    "                    \n",
    "                #dom length cases\n",
    "                if struct_info_array2[domain_index, 2] == 0:\n",
    "                    length_here = default_length\n",
    "                else:\n",
    "                    length_here = struct_info_array2[domain_index, 2]\n",
    "                \n",
    "                \n",
    "                #for doms > 0 and previous dom didn't have strand break, x0, y0 is the same as x1, y1 of prev dom\n",
    "                if len(neighbors) == 1:\n",
    "                    if neighbors[0] < domain_index:\n",
    "                        coordinate_array[domain_index, 0] = coordinate_array[domain_index-1, 2]\n",
    "                        coordinate_array[domain_index, 1] = coordinate_array[domain_index-1, 3]\n",
    "                        \n",
    "                        abs_angle = struct_info_array2[neighbors[0], 3] + rel_angle\n",
    "                        struct_info_array2[domain_index, 3] = abs_angle #fill out abs angle field\n",
    "\n",
    "                        x0, y0 = coordinate_array[domain_index, 0], coordinate_array[domain_index, 1]\n",
    "                        x1, y1 = calculate_other_two_coords(x0, y0, abs_angle, length_here)\n",
    "                        coordinate_array[domain_index, 2] = x1\n",
    "                        coordinate_array[domain_index, 3] = y1\n",
    "                        \n",
    "                        \n",
    "                    elif neighbors[0] > domain_index:\n",
    "                        coordinate_array[domain_index, 2] = coordinate_array[domain_index+1, 0]\n",
    "                        coordinate_array[domain_index, 3] = coordinate_array[domain_index+1, 1]\n",
    "                        \n",
    "                        #change rel angle here\n",
    "                        #rel_angle = take_opposite_angle(rel_angle)\n",
    "                        \n",
    "                        abs_angle = struct_info_array2[neighbors[0], 3] - rel_angle\n",
    "                        struct_info_array2[domain_index, 3] = abs_angle #fill out abs angle field\n",
    "\n",
    "                        x1, y1 = coordinate_array[domain_index, 2], coordinate_array[domain_index, 3] #other way around\n",
    "                        x0, y0 = calculate_other_two_coords(x1, y1, abs_angle, length_here)\n",
    "                        coordinate_array[domain_index, 0] = x0\n",
    "                        coordinate_array[domain_index, 1] = y0\n",
    "                        \n",
    "                if len(neighbors) == 2:\n",
    "                    for neigh in neighbors:\n",
    "                        if neigh < domain_index:\n",
    "                            if neigh in written_rows:\n",
    "                                coordinate_array[domain_index, 0] = coordinate_array[domain_index-1, 2]\n",
    "                                coordinate_array[domain_index, 1] = coordinate_array[domain_index-1, 3]\n",
    "                            else:\n",
    "                                #change rel angle here\n",
    "                                #rel_angle = take_opposite_angle(rel_angle)\n",
    "\n",
    "                                abs_angle = struct_info_array2[neighbors[0], 3] - rel_angle\n",
    "                                struct_info_array2[domain_index, 3] = abs_angle #fill out abs angle field\n",
    "\n",
    "                                x1, y1 = coordinate_array[domain_index, 2], coordinate_array[domain_index, 3]\n",
    "                                x0, y0 = calculate_other_two_coords(x1, y1, abs_angle, length_here)\n",
    "                                coordinate_array[domain_index, 0] = x0\n",
    "                                coordinate_array[domain_index, 1] = y0\n",
    "\n",
    "\n",
    "                        if neigh > domain_index:\n",
    "                            if neigh in written_rows:\n",
    "                                coordinate_array[domain_index, 2] = coordinate_array[domain_index+1, 0]\n",
    "                                coordinate_array[domain_index, 3] = coordinate_array[domain_index+1, 1]\n",
    "                            else:\n",
    "                                abs_angle = struct_info_array2[neighbors[0], 3] + rel_angle\n",
    "                                struct_info_array2[domain_index, 3] = abs_angle #fill out abs angle field\n",
    "\n",
    "                                x0, y0 = coordinate_array[domain_index, 0], coordinate_array[domain_index, 1]\n",
    "                                x1, y1 = calculate_other_two_coords(x0, y0, abs_angle, length_here)\n",
    "                                coordinate_array[domain_index, 2] = x1\n",
    "                                coordinate_array[domain_index, 3] = y1\n",
    "    print(struct_info_array2)\n",
    "\n",
    "    return coordinate_array"
   ]
  },
  {
   "cell_type": "code",
   "execution_count": 22,
   "metadata": {},
   "outputs": [
    {
     "name": "stdout",
     "output_type": "stream",
     "text": [
      "[['a', 'unhinged'], ['b', 'unhinged sequence'], ['c', 'unhinged sequence'], ['d', 'unhinged sequence'], ['e', 'paired'], ['f', 'hairpin loop'], ['e*', 'paired'], ['g', 'ambiguous']]\n",
      "[[-999   -1    0]\n",
      " [-999   -1    0]\n",
      " [-999   -1    0]\n",
      " [-999   -1    0]\n",
      " [-999   -1    0]\n",
      " [-999   -1    0]\n",
      " [-999   -1    0]\n",
      " [-999   -1    0]]\n",
      "[0, 1, 2, 3, 4, 6, 5, 7]\n",
      "[[-999   -1    0    0]\n",
      " [-999   -1    0    0]\n",
      " [-999   -1    0    0]\n",
      " [-999   -1    0    0]\n",
      " [-999   -1    0  -90]\n",
      " [-999   -1    0    0]\n",
      " [-999   -1    0   90]\n",
      " [-999   -1    0    0]]\n"
     ]
    },
    {
     "data": {
      "text/plain": [
       "array([[  0.,   0.,  30.,   0.],\n",
       "       [ 30.,   0.,  60.,   0.],\n",
       "       [ 60.,   0.,  90.,   0.],\n",
       "       [ 90.,   0., 120.,   0.],\n",
       "       [120.,   0., 120., -30.],\n",
       "       [120., -30., 130., -30.],\n",
       "       [130., -30., 130.,   0.],\n",
       "       [130.,   0., 160.,   0.]])"
      ]
     },
     "execution_count": 22,
     "metadata": {},
     "output_type": "execute_result"
    }
   ],
   "source": [
    "string = \"a b c d e( f ) g\"\n",
    "length_input_dict = {}\n",
    "dom_raw_list, struct_info_array, paired_dict, name_final_lol = comprehend_string(string)\n",
    "struct_info_array = process_length_input(struct_info_array, length_input_dict)\n",
    "skeleton_graph = create_skeleton(dom_raw_list, paired_dict, name_final_lol)\n",
    "name_final_lol, multiloop_list, crossroad_list, cycle_list_G = ds1_find_type_of_unpaired_v2(skeleton_graph, paired_dict, name_final_lol)\n",
    "print(name_final_lol)\n",
    "struct_info_array = ds2_fill_side_col(struct_info_array, cycle_list_G, name_final_lol)\n",
    "struct_info_array2 = resolve_domains_in_cycles(struct_info_array, paired_dict, skeleton_graph)\n",
    "print(struct_info_array2)\n",
    "traverse_order = ds3a_determine_contstruct_order(skeleton_graph, paired_dict)\n",
    "print(traverse_order)\n",
    "ds3b_stepwise_buildup(struct_info_array2, paired_dict, name_final_lol, crossroad_list, traverse_order, skeleton_graph)"
   ]
  },
  {
   "cell_type": "code",
   "execution_count": 25,
   "metadata": {},
   "outputs": [
    {
     "name": "stdout",
     "output_type": "stream",
     "text": [
      "[0, 4, 3, 1, 2]\n",
      "[[-999   -1    0    0]\n",
      " [-999   -1    0  -90]\n",
      " [-999   -1    0    0]\n",
      " [-999   -1    0   90]\n",
      " [-999   -1    0  180]]\n"
     ]
    },
    {
     "data": {
      "text/plain": [
       "array([[ 0.        ,  0.        , 30.        ,  0.        ],\n",
       "       [26.83772234, 19.48683298, -3.16227766,  9.48683298],\n",
       "       [-3.16227766,  9.48683298,  0.        ,  0.        ],\n",
       "       [ 0.        ,  0.        , 30.        , 10.        ],\n",
       "       [30.        , 10.        ,  0.        , 10.        ]])"
      ]
     },
     "execution_count": 25,
     "metadata": {},
     "output_type": "execute_result"
    },
    {
     "data": {
      "image/png": "[encoded data removed]",
      "text/plain": [
       "<Figure size 1152x648 with 1 Axes>"
      ]
     },
     "metadata": {},
     "output_type": "display_data"
    }
   ],
   "source": [
    "string = \"a( + b( c ))\"\n",
    "length_input_dict = {}\n",
    "dom_raw_list, struct_info_array, paired_dict, name_final_lol = comprehend_string(string)\n",
    "struct_info_array = process_length_input(struct_info_array, length_input_dict)\n",
    "skeleton_graph = create_skeleton(dom_raw_list, paired_dict, name_final_lol)\n",
    "draw_skeleton(skeleton_graph)\n",
    "name_final_lol, multiloop_list, crossroad_list, cycle_list_G = ds1_find_type_of_unpaired_v2(skeleton_graph, paired_dict, name_final_lol)\n",
    "struct_info_array = ds2_fill_side_col(struct_info_array, cycle_list_G, name_final_lol)\n",
    "struct_info_array2 = resolve_domains_in_cycles(struct_info_array, paired_dict, skeleton_graph)\n",
    "traverse_order = ds3a_determine_contstruct_order(skeleton_graph, paired_dict)\n",
    "print(traverse_order)\n",
    "ds3b_stepwise_buildup(struct_info_array2, paired_dict, name_final_lol, crossroad_list, traverse_order, skeleton_graph)"
   ]
  },
  {
   "cell_type": "code",
   "execution_count": null,
   "metadata": {},
   "outputs": [],
   "source": [
    "string = \"a( b c( d( e ) f( + )) g ) h i\"\n",
    "dom_raw_list, struct_info_array, paired_dict, name_final_lol = comprehend_string(string)\n",
    "skeleton_graph = create_skeleton(dom_raw_list, paired_dict, name_final_lol)\n",
    "name_final_lol, multiloop_list, crossroad_list, cycle_list_G = ds1_find_type_of_unpaired_v2(skeleton_graph, paired_dict, name_final_lol)\n",
    "struct_info_array = ds2_fill_side_col(struct_info_array, cycle_list_G)\n",
    "traverse_order = ds3a_determine_contstruct_order(skeleton_graph, paired_dict)\n",
    "ds3_stepwise_buildup(struct_info_array, paired_dict, name_final_lol, crossroad_list, cycle_list_G, traverse_order)"
   ]
  },
  {
   "cell_type": "markdown",
   "metadata": {},
   "source": [
    "### 2. Prepare final drawing parameters\n",
    "drawing functions, names, colors, canvas size"
   ]
  },
  {
   "cell_type": "code",
   "execution_count": 145,
   "metadata": {},
   "outputs": [],
   "source": [
    "#color list for each domain where: pairs are same color, multiloops are same color, \n",
    "#neighbor domains never same color\n",
    "\n",
    "def create_color_list(name_final_lol, paired_dict, multiloop_list, palette):\n",
    "    if palette is \"IBM\":\n",
    "        colors = [\"#648FFF\", \"#785EF0\", \"#DC267F\", \"#FE6100\", \"#FFB000\"]\n",
    "        background_cols = [\"#BACCFB\", \"#CAC1F3\", \"#DC9BBB\", \"#F1C2A6\", \"#F9E5B9\"] #WIP\n",
    "    elif palette is \"Wong\":\n",
    "        colors = [\"#000000\", \"#E69F00\", \"#56B4E9\", \"#009E73\", \"#F0E442\", \"#0072B2\", \"#D55E00\", \"#CC79A7\"]\n",
    "        background_cols = [\"#BDBDBD\", \"#EAC267\", \"#A5CCE2\", \"#77A79A\", \"#E8E4A7\", \"#6595B1\", \"#D49E73\", \"#C7A8BA\"] #WIP\n",
    "    elif palette is \"Tol\":\n",
    "        colors = []\n",
    "        background_cols = [] #WIP\n",
    "    else:\n",
    "        print(\"Palette not yet available\")\n",
    "        \n",
    "    def give_pair_of_domain(dom_index, paired_dict):\n",
    "        if dom_index in paired_dict:\n",
    "            return paired_dict[dom_index]\n",
    "        elif dom_index in list(paired_dict.values()):\n",
    "            index_of_pair = list(paired_dict.keys())[list(paired_dict.values()).index(dom_index)]\n",
    "            return index_of_pair\n",
    "        else:\n",
    "            raise ValueError('not actually paired')\n",
    "    \n",
    "    curr_color_i = 0\n",
    "    for dom_index in range(len(name_final_lol)):\n",
    "        color_i = curr_color_i % len(colors)\n",
    "        \n",
    "        if len(name_final_lol[dom_index]) == 2:\n",
    "            name, domtype = name_final_lol[dom_index]\n",
    "\n",
    "            if domtype is \"paired\":\n",
    "                pair_index = give_pair_of_domain(dom_index, paired_dict)\n",
    "                \n",
    "                #index2 is line color\n",
    "                name_final_lol[dom_index].append(colors[color_i])\n",
    "                name_final_lol[pair_index].append(colors[color_i])\n",
    "                \n",
    "                #index3 is only for paired, the between pair background color\n",
    "                name_final_lol[dom_index].append(background_cols[color_i])\n",
    "                name_final_lol[pair_index].append(background_cols[color_i])\n",
    "                \n",
    "                curr_color_i += 1\n",
    "\n",
    "            elif domtype is \"multiloop\":\n",
    "                for loop in multiloop_list:\n",
    "                    if dom_index in loop:\n",
    "                        for loop_index in loop:\n",
    "                            name_final_lol[loop_index].append(colors[color_i])\n",
    "                            \n",
    "            else:\n",
    "                name_final_lol[dom_index].append(colors[color_i])\n",
    "                \n",
    "                curr_color_i += 1\n",
    "    \n",
    "    return name_final_lol"
   ]
  },
  {
   "cell_type": "code",
   "execution_count": 101,
   "metadata": {},
   "outputs": [
    {
     "name": "stdout",
     "output_type": "stream",
     "text": [
      "[[-999   -1    0    0]\n",
      " [-999   -1    0    0]\n",
      " [-999   -1    0    0]\n",
      " [-999   -1    0    0]\n",
      " [-999   -1    0  -90]\n",
      " [-999   -1    0    0]\n",
      " [-999   -1    0   90]\n",
      " [-999   -1    0    0]]\n"
     ]
    },
    {
     "data": {
      "text/plain": [
       "[['a', 'unhinged', '#648FFF'],\n",
       " ['b', 'unhinged sequence', '#785EF0'],\n",
       " ['c', 'unhinged sequence', '#DC267F'],\n",
       " ['d', 'unhinged sequence', '#FE6100'],\n",
       " ['e', 'paired', '#FFB000', '#FBD071'],\n",
       " ['f', 'hairpin loop', '#648FFF'],\n",
       " ['e*', 'paired', '#FFB000', '#FBD071'],\n",
       " ['g', 'ambiguous', '#785EF0']]"
      ]
     },
     "execution_count": 101,
     "metadata": {},
     "output_type": "execute_result"
    }
   ],
   "source": [
    "string = \"a b c d e( f ) g\"\n",
    "length_input_dict = {}\n",
    "dom_raw_list, struct_info_array, paired_dict, name_final_lol = comprehend_string(string)\n",
    "struct_info_array = process_length_input(struct_info_array, length_input_dict)\n",
    "skeleton_graph = create_skeleton(dom_raw_list, paired_dict, name_final_lol)\n",
    "name_final_lol, multiloop_list, crossroad_list, cycle_list_G = ds1_find_type_of_unpaired_v2(skeleton_graph, paired_dict, name_final_lol)\n",
    "struct_info_array = ds2_fill_side_col(struct_info_array, cycle_list_G, name_final_lol)\n",
    "struct_info_array2 = resolve_domains_in_cycles(struct_info_array, paired_dict, skeleton_graph)\n",
    "traverse_order = ds3a_determine_contstruct_order(skeleton_graph, paired_dict)\n",
    "coordinate_array = ds3b_stepwise_buildup(struct_info_array2, paired_dict, name_final_lol, crossroad_list, traverse_order, skeleton_graph)\n",
    "\n",
    "palette = \"IBM\"\n",
    "name_final_lol = create_color_list(name_final_lol, paired_dict, multiloop_list, palette)\n",
    "name_final_lol"
   ]
  },
  {
   "cell_type": "markdown",
   "metadata": {},
   "source": [
    "## FINAL DRAWING\n",
    "Use drawing functions"
   ]
  },
  {
   "cell_type": "code",
   "execution_count": 54,
   "metadata": {},
   "outputs": [],
   "source": [
    "def lin_domain(x0, y0, x1, y1, side, name, color):\n",
    "    \n",
    "    def normal_length1(vector, side):\n",
    "        unit_vector = vector/np.linalg.norm(vector)\n",
    "        unit_normal = np.array([-1*side*unit_vector[1], side*unit_vector[0]])\n",
    "        \n",
    "        return unit_normal\n",
    "    \n",
    "    #draw line from 5' to 3'\n",
    "    p = draw.Line(x0, y0, x1, y1, stroke = color)\n",
    "                  \n",
    "    text_col = 'black'\n",
    "    offset_len = 7\n",
    "    text_size = 8\n",
    "    \n",
    "    #label has to be on its correct side\n",
    "    vector = np.array([x1 - x0, y1 - y0])\n",
    "    label_offset = normal_length1(vector, side) * offset_len\n",
    "    x_text, y_text = np.array([x0,y0]) + vector/2 + label_offset\n",
    "        \n",
    "    t = draw.Text(name, text_size, x_text, y_text, fill = color)\n",
    "    \n",
    "    return p, t"
   ]
  },
  {
   "cell_type": "code",
   "execution_count": 91,
   "metadata": {},
   "outputs": [],
   "source": [
    "def hairpin_loop(x0, y0, x1, y1, side, name, color):\n",
    "    \n",
    "    offset_len = 7\n",
    "    text_size = 8\n",
    "    \n",
    "    def normal_length1(vector, side):\n",
    "        unit_vector = vector/np.linalg.norm(vector)\n",
    "        unit_normal = np.array([-1*side*unit_vector[1], side*unit_vector[0]])\n",
    "        \n",
    "        return unit_normal\n",
    "    \n",
    "    #formula for calculating cosA between to vectors\n",
    "    def calc_degree(vector1, vector2):\n",
    "        cos_alpha = np.dot(vector1, vector2)/(np.linalg.norm(vector1)*np.linalg.norm(vector2))\n",
    "        degree = np.arccos(cos_alpha)*180/np.pi\n",
    "        return degree\n",
    "    \n",
    "    #calculate Arc arguments\n",
    "    r = np.sqrt((x1-x0)**2 + (y1-y0)**2) #rn radius is the distance between paired regions, will change\n",
    "    \n",
    "    #vector is pointing from point 0 -> point 1\n",
    "    vector = np.array([x1 - x0, y1 - y0])\n",
    "    vec_len = np.linalg.norm(vector)\n",
    "    unit_normal = normal_length1(vector, side)\n",
    "    \n",
    "    #calculate center and label anchor with r and vector\n",
    "    diag = np.sqrt(r**2 - (vec_len/2)**2)\n",
    "    cx, cy = np.array([x0,y0])+ vector/2 + diag*unit_normal\n",
    "    x_text, y_text = np.array([x0,y0])+ vector/2 + (diag+r+offset_len)*unit_normal\n",
    "       \n",
    "    vec_center_0 = np.array([x0-cx,y0-cy])\n",
    "    vec_center_1 = np.array([x1-cx,y1-cy])\n",
    "    \n",
    "    #correction for 0 angle\n",
    "    if np.sign(vec_center_0[1]) == 0:\n",
    "        which_side0 = 1\n",
    "    else:\n",
    "        which_side0 = np.sign(vec_center_0[1])\n",
    "    \n",
    "    if np.sign(vec_center_1[1]) == 0:\n",
    "        which_side1 = 1\n",
    "    else:\n",
    "        which_side1 = np.sign(vec_center_1[1])    \n",
    "    \n",
    "    #bit unclear about start/end degrees, but works\n",
    "    if side == -1:\n",
    "        startdeg = calc_degree(vec_center_0, np.array([1,0]))*which_side0\n",
    "        enddeg = calc_degree(vec_center_1, np.array([1,0]))*which_side1\n",
    "    elif side == 1:\n",
    "        enddeg = calc_degree(vec_center_0, np.array([1,0]))*which_side0\n",
    "        startdeg = calc_degree(vec_center_1, np.array([1,0]))*which_side1\n",
    "        \n",
    "    #draw\n",
    "    p = draw.Arc(cx, cy, r, startdeg, enddeg,\n",
    "        stroke=color, stroke_width=0.9, fill=\"none\") #stroke_width will be also important\n",
    "    \n",
    "    #LABEL - if without name, no label is added\n",
    "    t = draw.Text(name, text_size, x_text, y_text, fill=color) #label\n",
    "        \n",
    "    return p, t"
   ]
  },
  {
   "cell_type": "code",
   "execution_count": null,
   "metadata": {},
   "outputs": [],
   "source": [
    "def multiloop():\n",
    "    pass"
   ]
  },
  {
   "cell_type": "code",
   "execution_count": 137,
   "metadata": {},
   "outputs": [],
   "source": [
    "def draw_image_from_coords(coordinate_array, struct_info_array2, name_final_lol, multiloop_list, paired_dict):\n",
    "    \n",
    "    def get_canvas_size(coordinate_array):\n",
    "        x_coords = list(coordinate_array[:,0]) + list(coordinate_array[:,2])\n",
    "        y_coords = list(coordinate_array[:,1]) + list(coordinate_array[:,3])\n",
    "        \n",
    "        x_len = (max(x_coords) - min(x_coords)) + 50 #canvas 14 incre. larger than max range\n",
    "        y_len = (max(y_coords) - min(y_coords)) + 50\n",
    "        \n",
    "        origo = [min(x_coords) - 14, min(y_coords) - 25] #origin 7 increment lower - which is the text_offset\n",
    "        canvas = [int(x_len), int(y_len)]\n",
    "        \n",
    "        return canvas, origo\n",
    "    \n",
    "    #draw process\n",
    "    SCALE_METRIC = 3     #?\n",
    "    CANVAS_SIZE, ORIGIN = get_canvas_size(coordinate_array)\n",
    "\n",
    "    #image instancing\n",
    "    d = draw.Drawing(CANVAS_SIZE[0], CANVAS_SIZE[1], origin=ORIGIN, displayInline=False)\n",
    "    d.setPixelScale(SCALE_METRIC)\n",
    "    \n",
    "    for row in range(len(coordinate_array[:,0])):\n",
    "        x0 = coordinate_array[row, 0]\n",
    "        y0 = coordinate_array[row, 1]\n",
    "        x1 = coordinate_array[row, 2]\n",
    "        y1 = coordinate_array[row, 3]\n",
    "        side = struct_info_array2[row, 1]\n",
    "        name = name_final_lol[row][0]\n",
    "        color = name_final_lol[row][2]\n",
    "        \n",
    "        #endings indicated\n",
    "        if row == 0:\n",
    "            dom1vec = np.array([x0 - x1, y0 - y1])\n",
    "            vec5prime = dom1vec/np.linalg.norm(dom1vec) * 10\n",
    "            t5 = draw.Text(\"5'\", 6, vec5prime[0], vec5prime[1], fill='black')\n",
    "            d.append(t5)\n",
    "        elif row == len(coordinate_array[:,0])-1:\n",
    "            dom_last_vec = np.array([x1 - x0, y1 - y0])\n",
    "            vec3prime = np.array([x1,y1]) + dom_last_vec/np.linalg.norm(dom_last_vec) * 7\n",
    "            t3 = draw.Text(\"3'\", 6, vec3prime[0], vec3prime[1], fill='black')\n",
    "            d.append(t3)\n",
    "        \n",
    "        #some dom types have special functions\n",
    "        if name_final_lol[row][1] == \"hairpin loop\":\n",
    "            p, t = hairpin_loop(x0, y0, x1, y1, side, name, color)\n",
    "        else:\n",
    "            p, t = lin_domain(x0, y0, x1, y1, side, name, color)\n",
    "        d.append(p)\n",
    "        d.append(t)\n",
    "        \n",
    "    for pair1 in paired_dict:\n",
    "        pair2 = paired_dict[pair1]\n",
    "        color = name_final_lol[pair1][3]\n",
    "        x0, y0, x1, y1 = coordinate_array[pair1]\n",
    "        x0p, y0p, x1p, y1p = coordinate_array[pair2]\n",
    "        \n",
    "        r = draw.Lines(x0, y0, x1, y1,\n",
    "                   x0p, y0p, x1p, y1p,\n",
    "                   close = False, fill = color)\n",
    "        d.append(r)\n",
    "\n",
    "    return d"
   ]
  },
  {
   "cell_type": "code",
   "execution_count": 133,
   "metadata": {},
   "outputs": [
    {
     "data": {
      "text/plain": [
       "array([55.14495755, 88.57492926])"
      ]
     },
     "execution_count": 133,
     "metadata": {},
     "output_type": "execute_result"
    }
   ],
   "source": [
    "x0 = 20\n",
    "y0 = 30\n",
    "x1 = 50\n",
    "y1 = 80\n",
    "\n",
    "dom_last_vec = np.array([x1 - x0, y1 - y0])\n",
    "vec3prime = np.array([x1,y1]) + dom_last_vec/np.linalg.norm(dom_last_vec)*10\n",
    "\n",
    "vec3prime"
   ]
  },
  {
   "cell_type": "code",
   "execution_count": 74,
   "metadata": {},
   "outputs": [],
   "source": [
    "def master_function(string, length_input_dict, palette):\n",
    "    dom_raw_list, struct_info_array, paired_dict, name_final_lol = comprehend_string(string)\n",
    "    struct_info_array = process_length_input(struct_info_array, length_input_dict)\n",
    "    skeleton_graph = create_skeleton(dom_raw_list, paired_dict, name_final_lol)\n",
    "    name_final_lol, multiloop_list, crossroad_list, cycle_list_G = ds1_find_type_of_unpaired_v2(skeleton_graph, paired_dict, name_final_lol)\n",
    "    struct_info_array = ds2_fill_side_col(struct_info_array, cycle_list_G, name_final_lol)\n",
    "    \n",
    "    \n",
    "    #if no cycles skip cycle resolve:\n",
    "    if len(cycle_list_G) == 0:\n",
    "        struct_info_array2 = struct_info_array\n",
    "    else:\n",
    "        struct_info_array2 = resolve_domains_in_cycles(struct_info_array, paired_dict, skeleton_graph)\n",
    "        \n",
    "        \n",
    "    traverse_order = ds3a_determine_contstruct_order(skeleton_graph, paired_dict)\n",
    "    coordinate_array = ds3b_stepwise_buildup(struct_info_array2, paired_dict, name_final_lol, crossroad_list, traverse_order, skeleton_graph)    \n",
    "    \n",
    "    name_final_lol = create_color_list(name_final_lol, paired_dict, multiloop_list, palette)\n",
    "    d = draw_image_from_coords(coordinate_array, struct_info_array2, name_final_lol, multiloop_list, paired_dict)\n",
    "    \n",
    "    return d"
   ]
  },
  {
   "cell_type": "code",
   "execution_count": 138,
   "metadata": {},
   "outputs": [
    {
     "name": "stdout",
     "output_type": "stream",
     "text": [
      "[[-999   -1    0    0]\n",
      " [-999   -1    0    0]\n",
      " [  60    1    0   60]\n",
      " [-999    1    0   60]\n",
      " [-999   -1    0  -30]\n",
      " [-999   -1    0    0]\n",
      " [-999   -1    0  150]\n",
      " [-999   -1    0   60]]\n"
     ]
    },
    {
     "data": {
      "text/html": [
       "<img src=\"data:image/svg+xml;base64,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\">"
      ],
      "text/plain": [
       "<drawSvg.drawing.Drawing at 0x2966b6af4a8>"
      ]
     },
     "execution_count": 138,
     "metadata": {},
     "output_type": "execute_result"
    }
   ],
   "source": [
    "string = \"a b @60 c d e( f ) g\"\n",
    "length_input_dict = {}\n",
    "palette = \"IBM\"\n",
    "\n",
    "d = master_function(string, length_input_dict, palette)\n",
    "d"
   ]
  },
  {
   "cell_type": "code",
   "execution_count": 136,
   "metadata": {},
   "outputs": [
    {
     "name": "stdout",
     "output_type": "stream",
     "text": [
      "[[-999   -1    0    0]\n",
      " [-999   -1    0    0]\n",
      " [ 120    1    0  120]\n",
      " [-999    1    0  120]\n",
      " [-999   -1    0   30]\n",
      " [-999   -1    0    0]\n",
      " [-999   -1    0 -150]\n",
      " [-999   -1    0 -240]]\n"
     ]
    },
    {
     "data": {
      "text/html": [
       "<img src=\"data:image/svg+xml;base64,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\">"
      ],
      "text/plain": [
       "<drawSvg.drawing.Drawing at 0x2966bbb4eb8>"
      ]
     },
     "execution_count": 136,
     "metadata": {},
     "output_type": "execute_result"
    }
   ],
   "source": [
    "string = \"a b @120 c d e( f ) g\"\n",
    "length_input_dict = {}\n",
    "palette = \"IBM\"\n",
    "\n",
    "d = master_function(string, length_input_dict, palette)\n",
    "d"
   ]
  },
  {
   "cell_type": "code",
   "execution_count": 140,
   "metadata": {},
   "outputs": [
    {
     "name": "stdout",
     "output_type": "stream",
     "text": [
      "[[  45    1  100   45]\n",
      " [-999   -1    0  -45]\n",
      " [-999   -1    0    0]\n",
      " [-999   -1    0  135]\n",
      " [-999   -1    0   45]\n",
      " [  90    1    0  135]\n",
      " [-999    1    0    0]\n",
      " [-999    1    0  -45]\n",
      " [-999    1    0   45]]\n"
     ]
    },
    {
     "data": {
      "text/html": [
       "<img src=\"data:image/svg+xml;base64,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\">"
      ],
      "text/plain": [
       "<drawSvg.drawing.Drawing at 0x2966b704ba8>"
      ]
     },
     "execution_count": 140,
     "metadata": {},
     "output_type": "execute_result"
    }
   ],
   "source": [
    "string = \"@45 g1 a( b ) c @90 d( gggg ) e\"\n",
    "length_input_dict = {0:100}\n",
    "palette = \"IBM\"\n",
    "\n",
    "d = master_function(string, length_input_dict, palette)\n",
    "d"
   ]
  },
  {
   "cell_type": "code",
   "execution_count": 111,
   "metadata": {},
   "outputs": [
    {
     "name": "stdout",
     "output_type": "stream",
     "text": [
      "[[-999   -1  100    0]\n",
      " [-999   -1    0  -90]\n",
      " [-999   -1    0    0]\n",
      " [-999   -1    0   90]\n",
      " [-999   -1    0  180]]\n"
     ]
    },
    {
     "data": {
      "text/html": [
       "<img src=\"data:image/svg+xml;base64,PD94bWwgdmVyc2lvbj0iMS4wIiBlbmNvZGluZz0iVVRGLTgiPz4KPHN2ZyB4bWxucz0iaHR0cDovL3d3dy53My5vcmcvMjAwMC9zdmciIHhtbG5zOnhsaW5rPSJodHRwOi8vd3d3LnczLm9yZy8xOTk5L3hsaW5rIgogICAgIHdpZHRoPSI0NTMiIGhlaWdodD0iMjY3IiB2aWV3Qm94PSItMTQuMCAtNjQuMCAxNTEgODkiPgo8ZGVmcz4KPC9kZWZzPgo8cGF0aCBkPSJNMC4wLC0wLjAgTDEwMC4wLC0wLjAiIHN0cm9rZT0iIzY0OEZGRiIgLz4KPHRleHQgeD0iNTAuMCIgeT0iNy4wIiBmb250LXNpemU9IjgiIGZpbGw9IiM2NDhGRkYiIGR5PSIwZW0iPmE8L3RleHQ+CjxwYXRoIGQ9Ik0xMDEuOTYxMTYxMzUxMzgxODUsLTE5LjgwNTgwNjc1NjkwOTIgTDEuOTYxMTYxMzUxMzgxODQ2OSwtMzkuODA1ODA2NzU2OTA5MiIgc3Ryb2tlPSIjNzg1RUYwIiAvPgo8dGV4dCB4PSI1My4zMzM5NzQyOTczNDkxNCIgeT0iLTM2LjY2OTg3MTQ4Njc0NTY0IiBmb250LXNpemU9IjgiIGZpbGw9IiM3ODVFRjAiIGR5PSIwZW0iPmI8L3RleHQ+CjxwYXRoIGQ9Ik0xLjk2MTE2MTM1MTM4MTg0NDIsLTM5LjgwNTgwNjc1NjkwOTIgQTkuOTk5OTk5OTk5OTk5OTk4LDkuOTk5OTk5OTk5OTk5OTk4LDAsMSwwLDMuNTUyNzEzNjc4ODAwNTAxZS0xNSwtMjkuOTk5OTk5OTk5OTk5OTk2IiBzdHJva2U9IiNEQzI2N0YiIHN0cm9rZS13aWR0aD0iMC45IiBmaWxsPSJub25lIiAvPgo8dGV4dCB4PSItMjQuMTgxMzY4NTY3MTM5MTgiIHk9Ii0zOS45MzUyOTMyMjcwMjA2MyIgZm9udC1zaXplPSI4IiBmaWxsPSIjREMyNjdGIiBkeT0iMGVtIj5jPC90ZXh0Pgo8cGF0aCBkPSJNMS44MzY5NzAxOTg3MjEwM2UtMTUsLTMwLjAgTDEwMC4wLC0xMC4wIiBzdHJva2U9IiM3ODVFRjAiIC8+Cjx0ZXh0IHg9IjQ4LjYyNzE4NzA1NDAzMjcxIiB5PSItMTMuMTM1OTM1MjcwMTYzNTU5IiBmb250LXNpemU9IjgiIGZpbGw9IiM3ODVFRjAiIGR5PSIwZW0iPmIqPC90ZXh0Pgo8cGF0aCBkPSJNMTAwLjAsLTEwLjAgTDAuMCwtMTAuMCIgc3Ryb2tlPSIjNjQ4RkZGIiAvPgo8dGV4dCB4PSI1MC4wIiB5PSItMTcuMCIgZm9udC1zaXplPSI4IiBmaWxsPSIjNjQ4RkZGIiBkeT0iMGVtIj5hKjwvdGV4dD4KPHBhdGggZD0iTTAuMCwtMC4wIEwxMDAuMCwtMC4wIEwxMDAuMCwtMTAuMCBMMC4wLC0xMC4wIiBmaWxsPSIjQkFDQ0ZCIiAvPgo8cGF0aCBkPSJNMTAxLjk2MTE2MTM1MTM4MTg1LC0xOS44MDU4MDY3NTY5MDkyIEwxLjk2MTE2MTM1MTM4MTg0NjksLTM5LjgwNTgwNjc1NjkwOTIgTDEuODM2OTcwMTk4NzIxMDNlLTE1LC0zMC4wIEwxMDAuMCwtMTAuMCIgZmlsbD0iI0NBQzFGMyIgLz4KPC9zdmc+\">"
      ],
      "text/plain": [
       "<drawSvg.drawing.Drawing at 0x2966bbb5588>"
      ]
     },
     "execution_count": 111,
     "metadata": {},
     "output_type": "execute_result"
    }
   ],
   "source": [
    "#clearly buggy\n",
    "\n",
    "string = \"a( + b( c ))\"\n",
    "length_input_dict = {0:100}\n",
    "palette = \"IBM\"\n",
    "\n",
    "d = master_function(string, length_input_dict, palette)\n",
    "d"
   ]
  },
  {
   "cell_type": "code",
   "execution_count": 132,
   "metadata": {},
   "outputs": [
    {
     "name": "stdout",
     "output_type": "stream",
     "text": [
      "[[ 60   1 100  60]\n",
      " [-60  -1   0   0]\n",
      " [ 60   1   0  60]\n",
      " [-60  -1   0   0]]\n"
     ]
    },
    {
     "data": {
      "text/html": [
       "<img src=\"data:image/svg+xml;base64,PD94bWwgdmVyc2lvbj0iMS4wIiBlbmNvZGluZz0iVVRGLTgiPz4KPHN2ZyB4bWxucz0iaHR0cDovL3d3dy53My5vcmcvMjAwMC9zdmciIHhtbG5zOnhsaW5rPSJodHRwOi8vd3d3LnczLm9yZy8xOTk5L3hsaW5rIgogICAgIHdpZHRoPSI1MjUiIGhlaWdodD0iNDg2IiB2aWV3Qm94PSItMTQuMCAtMTM3LjAgMTc1IDE2MiI+CjxkZWZzPgo8L2RlZnM+Cjx0ZXh0IHg9Ii01LjAwMDAwMDAwMDAwMDAwMSIgeT0iOC42NjAyNTQwMzc4NDQzODYiIGZvbnQtc2l6ZT0iOCIgZmlsbD0iYmxhY2siIGR5PSIwZW0iPjUnPC90ZXh0Pgo8cGF0aCBkPSJNMC4wLC0wLjAgTDUwLjAwMDAwMDAwMDAwMDAxNCwtODYuNjAyNTQwMzc4NDQzODYiIHN0cm9rZT0iIzY0OEZGRiIgLz4KPHRleHQgeD0iMTguOTM3ODIyMTczNTA4OTM4IiB5PSItNDYuODAxMjcwMTg5MjIxOTMiIGZvbnQtc2l6ZT0iOCIgZmlsbD0iIzY0OEZGRiIgZHk9IjBlbSI+YTwvdGV4dD4KPHBhdGggZD0iTTUwLjAwMDAwMDAwMDAwMDAxNCwtODYuNjAyNTQwMzc4NDQzODYgTDgwLjAwMDAwMDAwMDAwMDAxLC04Ni42MDI1NDAzNzg0NDM4NiIgc3Ryb2tlPSIjNzg1RUYwIiAvPgo8dGV4dCB4PSI2NS4wMDAwMDAwMDAwMDAwMSIgeT0iLTc5LjYwMjU0MDM3ODQ0Mzg2IiBmb250LXNpemU9IjgiIGZpbGw9IiM3ODVFRjAiIGR5PSIwZW0iPmI8L3RleHQ+CjxwYXRoIGQ9Ik04MC4wMDAwMDAwMDAwMDAwMSwtODYuNjAyNTQwMzc4NDQzODYgTDk1LjAwMDAwMDAwMDAwMDAxLC0xMTIuNTgzMzAyNDkxOTc3MDIiIHN0cm9rZT0iI0RDMjY3RiIgLz4KPHRleHQgeD0iODEuNDM3ODIyMTczNTA4OTUiIHk9Ii0xMDMuMDkyOTIxNDM1MjEwNDQiIGZvbnQtc2l6ZT0iOCIgZmlsbD0iI0RDMjY3RiIgZHk9IjBlbSI+YzwvdGV4dD4KPHBhdGggZD0iTTk1LjAwMDAwMDAwMDAwMDAxLC0xMTIuNTgzMzAyNDkxOTc3MDIgTDEyNS4wMDAwMDAwMDAwMDAwMSwtMTEyLjU4MzMwMjQ5MTk3NzAyIiBzdHJva2U9IiNGRTYxMDAiIC8+Cjx0ZXh0IHg9IjExMC4wMDAwMDAwMDAwMDAwMSIgeT0iLTEwNS41ODMzMDI0OTE5NzcwMiIgZm9udC1zaXplPSI4IiBmaWxsPSIjRkU2MTAwIiBkeT0iMGVtIj5kPC90ZXh0Pgo8L3N2Zz4=\">"
      ],
      "text/plain": [
       "<drawSvg.drawing.Drawing at 0x2966b6801d0>"
      ]
     },
     "execution_count": 132,
     "metadata": {},
     "output_type": "execute_result"
    }
   ],
   "source": [
    "string = \"@60 a @-60 b @60 c @-60 d\"\n",
    "length_input_dict = {0:100}\n",
    "palette = \"IBM\"\n",
    "\n",
    "d = master_function(string, length_input_dict, palette)\n",
    "d"
   ]
  },
  {
   "cell_type": "code",
   "execution_count": 104,
   "metadata": {},
   "outputs": [
    {
     "name": "stdout",
     "output_type": "stream",
     "text": [
      "[[-999   -1   50    0]\n",
      " [-999   -1    0  -90]\n",
      " [-999   -1    0    0]\n",
      " [-999   -1    0  180]\n",
      " [-999   -1    0   60]\n",
      " [-999   -1    0  240]\n",
      " [-999   -1    0  120]\n",
      " [-999   -1    0  300]\n",
      " [-999   -1    0  180]]\n"
     ]
    },
    {
     "data": {
      "text/html": [
       "<img src=\"data:image/svg+xml;base64,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\">"
      ],
      "text/plain": [
       "<drawSvg.drawing.Drawing at 0x2966bbb4e48>"
      ]
     },
     "execution_count": 104,
     "metadata": {},
     "output_type": "execute_result"
    }
   ],
   "source": [
    "string = \"x( r + r( + ) x*( + ) t2*( + ) )\"\n",
    "length_input_dict = {0:50}\n",
    "palette = \"IBM\"\n",
    "\n",
    "d = master_function(string, length_input_dict, palette)\n",
    "d"
   ]
  },
  {
   "cell_type": "code",
   "execution_count": 146,
   "metadata": {},
   "outputs": [
    {
     "name": "stdout",
     "output_type": "stream",
     "text": [
      "[[  60    1   40   60]\n",
      " [-999   -1   40  -30]\n",
      " [-999   -1    0    0]\n",
      " [-999   -1    0  150]\n",
      " [ -60   -1    0   90]\n",
      " [-999   -1    0    0]\n",
      " [-999   -1    0    0]\n",
      " [-999   -1    0  180]\n",
      " [ -60   -1   55  120]\n",
      " [-999   -1    0   30]\n",
      " [-999   -1    0    0]\n",
      " [-999   -1    0 -150]\n",
      " [ -60   -1    0 -210]]\n"
     ]
    },
    {
     "data": {
      "text/html": [
       "<img src=\"data:image/svg+xml;base64,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\">"
      ],
      "text/plain": [
       "<drawSvg.drawing.Drawing at 0x2966b706278>"
      ]
     },
     "execution_count": 146,
     "metadata": {},
     "output_type": "execute_result"
    }
   ],
   "source": [
    "string = \"@60 a b( hp1 ) @-60 c d( hp2 ) @-60 e f( hp3 ) @-60 g\"\n",
    "length_input_dict = {0:40, 1:40, 8:55}\n",
    "palette = \"Wong\"\n",
    "\n",
    "d = master_function(string, length_input_dict, palette)\n",
    "d"
   ]
  },
  {
   "cell_type": "code",
   "execution_count": 144,
   "metadata": {},
   "outputs": [
    {
     "name": "stdout",
     "output_type": "stream",
     "text": [
      "[[  30    1   40   30]\n",
      " [   0    1   20   30]\n",
      " [-999    1    0    0]\n",
      " [-999    1    0 -150]\n",
      " [   0    1    0 -150]]\n"
     ]
    },
    {
     "data": {
      "text/html": [
       "<img src=\"data:image/svg+xml;base64,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\">"
      ],
      "text/plain": [
       "<drawSvg.drawing.Drawing at 0x2966bdb5f98>"
      ]
     },
     "execution_count": 144,
     "metadata": {},
     "output_type": "execute_result"
    }
   ],
   "source": [
    "string = \"@30 a( b( c ))\"\n",
    "length_input_dict = {0:40, 1:20}\n",
    "palette = \"IBM\"\n",
    "\n",
    "d = master_function(string, length_input_dict, palette)\n",
    "d"
   ]
  },
  {
   "cell_type": "code",
   "execution_count": 95,
   "metadata": {},
   "outputs": [
    {
     "data": {
      "text/plain": [
       "([['d1', 'unhinged'],\n",
       "  ['a', 'paired'],\n",
       "  ['b', 'paired'],\n",
       "  ['b*', 'paired'],\n",
       "  ['a*', 'paired'],\n",
       "  ['d2', 'ambiguous']],\n",
       " [],\n",
       " [],\n",
       " [[2, 3, 4, 1]])"
      ]
     },
     "execution_count": 95,
     "metadata": {},
     "output_type": "execute_result"
    },
    {
     "data": {
      "image/png": "[encoded data removed]",
      "text/plain": [
       "<Figure size 1152x648 with 1 Axes>"
      ]
     },
     "metadata": {},
     "output_type": "display_data"
    }
   ],
   "source": [
    "string = \"d1 a( b( + ) ) d2\"\n",
    "length_input_dict = {}\n",
    "dom_raw_list, struct_info_array, paired_dict, name_final_lol = comprehend_string(string)\n",
    "struct_info_array = process_length_input(struct_info_array, length_input_dict)\n",
    "skeleton_graph = create_skeleton(dom_raw_list, paired_dict, name_final_lol)\n",
    "draw_skeleton(skeleton_graph)\n",
    "\n",
    "ds1_find_type_of_unpaired_v2(skeleton_graph, paired_dict, name_final_lol)"
   ]
  }
 ],
 "metadata": {
  "kernelspec": {
   "display_name": "Python 3",
   "language": "python",
   "name": "python3"
  },
  "language_info": {
   "codemirror_mode": {
    "name": "ipython",
    "version": 3
   },
   "file_extension": ".py",
   "mimetype": "text/x-python",
   "name": "python",
   "nbconvert_exporter": "python",
   "pygments_lexer": "ipython3",
   "version": "3.7.3"
  }
 },
 "nbformat": 4,
 "nbformat_minor": 4
}
